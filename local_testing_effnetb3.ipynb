{
 "cells": [
  {
   "cell_type": "code",
   "execution_count": 1,
   "metadata": {},
   "outputs": [],
   "source": [
    "import numpy as np\n",
    "import matplotlib.pyplot as plt\n",
    "import os\n",
    "import cv2\n",
    "import pandas as pd\n",
    "import tensorflow as tf\n",
    "import math\n",
    "import tensorflow_addons as tfa\n",
    "import random\n",
    "import re\n",
    "import csv\n",
    "import itertools\n",
    "\n",
    "\n",
    "from sklearn import metrics\n",
    "from sklearn.utils import shuffle\n",
    "from tensorflow.keras.preprocessing.image import ImageDataGenerator\n",
    "from mlxtend.evaluate import mcnemar_table\n",
    "from statsmodels.stats.contingency_tables import mcnemar\n",
    "\n",
    "\n",
    "\n",
    "\n",
    "from utils import (\n",
    "    F1Score,\n",
    "    plot_metrics,\n",
    "    plot_accuracy,\n",
    "    study_oriented_transformation,\n",
    "    write_csv,\n",
    "    prediction_results,\n",
    "    plot_confusion_matrix,\n",
    "    plot_contigency_table,\n",
    ")\n"
   ]
  },
  {
   "cell_type": "code",
   "execution_count": 2,
   "metadata": {},
   "outputs": [
    {
     "name": "stdout",
     "output_type": "stream",
     "text": [
      "Num GPUs Available:  1\n"
     ]
    },
    {
     "name": "stderr",
     "output_type": "stream",
     "text": [
      "2022-10-17 03:14:02.633807: I tensorflow/stream_executor/cuda/cuda_gpu_executor.cc:961] could not open file to read NUMA node: /sys/bus/pci/devices/0000:01:00.0/numa_node\n",
      "Your kernel may have been built without NUMA support.\n",
      "2022-10-17 03:14:02.646597: I tensorflow/stream_executor/cuda/cuda_gpu_executor.cc:961] could not open file to read NUMA node: /sys/bus/pci/devices/0000:01:00.0/numa_node\n",
      "Your kernel may have been built without NUMA support.\n",
      "2022-10-17 03:14:02.647571: I tensorflow/stream_executor/cuda/cuda_gpu_executor.cc:961] could not open file to read NUMA node: /sys/bus/pci/devices/0000:01:00.0/numa_node\n",
      "Your kernel may have been built without NUMA support.\n"
     ]
    }
   ],
   "source": [
    "# To Activate GPU if there is\n",
    "physical_devices = tf.config.experimental.list_physical_devices('GPU')\n",
    "print(\"Num GPUs Available: \", len(physical_devices))\n",
    "tf.config.experimental.set_memory_growth(physical_devices[0], True)"
   ]
  },
  {
   "cell_type": "code",
   "execution_count": 3,
   "metadata": {},
   "outputs": [],
   "source": [
    "SEED = 1037\n",
    "\n",
    "os.environ[\"PYTHONHASHSEED\"] = str(SEED)\n",
    "random.seed(SEED)\n",
    "tf.random.set_seed(SEED)\n",
    "np.random.seed(SEED)\n"
   ]
  },
  {
   "cell_type": "code",
   "execution_count": 4,
   "metadata": {},
   "outputs": [],
   "source": [
    "base_model = 'efficientnetv2-b3'"
   ]
  },
  {
   "cell_type": "code",
   "execution_count": 5,
   "metadata": {},
   "outputs": [
    {
     "name": "stderr",
     "output_type": "stream",
     "text": [
      "2022-10-17 03:14:02.862054: I tensorflow/core/platform/cpu_feature_guard.cc:193] This TensorFlow binary is optimized with oneAPI Deep Neural Network Library (oneDNN) to use the following CPU instructions in performance-critical operations:  AVX2 FMA\n",
      "To enable them in other operations, rebuild TensorFlow with the appropriate compiler flags.\n",
      "2022-10-17 03:14:02.865438: I tensorflow/stream_executor/cuda/cuda_gpu_executor.cc:961] could not open file to read NUMA node: /sys/bus/pci/devices/0000:01:00.0/numa_node\n",
      "Your kernel may have been built without NUMA support.\n",
      "2022-10-17 03:14:02.866244: I tensorflow/stream_executor/cuda/cuda_gpu_executor.cc:961] could not open file to read NUMA node: /sys/bus/pci/devices/0000:01:00.0/numa_node\n",
      "Your kernel may have been built without NUMA support.\n",
      "2022-10-17 03:14:02.867035: I tensorflow/stream_executor/cuda/cuda_gpu_executor.cc:961] could not open file to read NUMA node: /sys/bus/pci/devices/0000:01:00.0/numa_node\n",
      "Your kernel may have been built without NUMA support.\n",
      "2022-10-17 03:14:03.619465: I tensorflow/stream_executor/cuda/cuda_gpu_executor.cc:961] could not open file to read NUMA node: /sys/bus/pci/devices/0000:01:00.0/numa_node\n",
      "Your kernel may have been built without NUMA support.\n",
      "2022-10-17 03:14:03.620062: I tensorflow/stream_executor/cuda/cuda_gpu_executor.cc:961] could not open file to read NUMA node: /sys/bus/pci/devices/0000:01:00.0/numa_node\n",
      "Your kernel may have been built without NUMA support.\n",
      "2022-10-17 03:14:03.620079: I tensorflow/core/common_runtime/gpu/gpu_device.cc:1616] Could not identify NUMA node of platform GPU id 0, defaulting to 0.  Your kernel may not have been built with NUMA support.\n",
      "2022-10-17 03:14:03.620584: I tensorflow/stream_executor/cuda/cuda_gpu_executor.cc:961] could not open file to read NUMA node: /sys/bus/pci/devices/0000:01:00.0/numa_node\n",
      "Your kernel may have been built without NUMA support.\n",
      "2022-10-17 03:14:03.620636: I tensorflow/core/common_runtime/gpu/gpu_device.cc:1532] Created device /job:localhost/replica:0/task:0/device:GPU:0 with 5440 MB memory:  -> device: 0, name: NVIDIA GeForce RTX 3070 Laptop GPU, pci bus id: 0000:01:00.0, compute capability: 8.6\n"
     ]
    }
   ],
   "source": [
    "METRICS = [ \n",
    "    tf.keras.metrics.BinaryAccuracy(),\n",
    "    tf.keras.metrics.Precision(name=\"precision\"),\n",
    "    tf.keras.metrics.Recall(name=\"recall\"),\n",
    "    tfa.metrics.CohenKappa(name=\"cohen_kappa\", num_classes=2),\n",
    "    F1Score(name=\"f1_score\"),\n",
    "]\n",
    "\n",
    "STUDY_TYPES = [\n",
    "    'elbow',\n",
    "    'finger',\n",
    "    'forearm',\n",
    "    'hand',\n",
    "    'humerus',\n",
    "    'shoulder',\n",
    "    'wrist',\n",
    "]\n",
    "\n",
    "CLASSES = ['NORMAL', 'ABNORMAL']\n"
   ]
  },
  {
   "cell_type": "code",
   "execution_count": 6,
   "metadata": {},
   "outputs": [
    {
     "data": {
      "text/html": [
       "<div>\n",
       "<style scoped>\n",
       "    .dataframe tbody tr th:only-of-type {\n",
       "        vertical-align: middle;\n",
       "    }\n",
       "\n",
       "    .dataframe tbody tr th {\n",
       "        vertical-align: top;\n",
       "    }\n",
       "\n",
       "    .dataframe thead th {\n",
       "        text-align: right;\n",
       "    }\n",
       "</style>\n",
       "<table border=\"1\" class=\"dataframe\">\n",
       "  <thead>\n",
       "    <tr style=\"text-align: right;\">\n",
       "      <th></th>\n",
       "      <th>path</th>\n",
       "    </tr>\n",
       "  </thead>\n",
       "  <tbody>\n",
       "    <tr>\n",
       "      <th>0</th>\n",
       "      <td>dataset/local_radiographs/wrist/study15_positi...</td>\n",
       "    </tr>\n",
       "    <tr>\n",
       "      <th>1</th>\n",
       "      <td>dataset/local_radiographs/wrist/study15_positi...</td>\n",
       "    </tr>\n",
       "    <tr>\n",
       "      <th>2</th>\n",
       "      <td>dataset/local_radiographs/wrist/study16_negati...</td>\n",
       "    </tr>\n",
       "    <tr>\n",
       "      <th>3</th>\n",
       "      <td>dataset/local_radiographs/wrist/study16_negati...</td>\n",
       "    </tr>\n",
       "    <tr>\n",
       "      <th>4</th>\n",
       "      <td>dataset/local_radiographs/hand/study09_positiv...</td>\n",
       "    </tr>\n",
       "  </tbody>\n",
       "</table>\n",
       "</div>"
      ],
      "text/plain": [
       "                                                path\n",
       "0  dataset/local_radiographs/wrist/study15_positi...\n",
       "1  dataset/local_radiographs/wrist/study15_positi...\n",
       "2  dataset/local_radiographs/wrist/study16_negati...\n",
       "3  dataset/local_radiographs/wrist/study16_negati...\n",
       "4  dataset/local_radiographs/hand/study09_positiv..."
      ]
     },
     "execution_count": 6,
     "metadata": {},
     "output_type": "execute_result"
    }
   ],
   "source": [
    "data_dir = 'dataset/local_radiographs/'\n",
    "dirs = next(os.walk(data_dir))[1]\n",
    "files = []\n",
    "\n",
    "for sub in dirs:\n",
    "    sub_dir = next(os.walk(os.path.join(data_dir, sub)))[1]\n",
    "    root = next(os.walk(os.path.join(data_dir, sub)))[0]\n",
    "    for item in sub_dir:\n",
    "        rel_path = os.path.join(root, item)\n",
    "        contents = next(os.walk(rel_path))[2]\n",
    "        files.extend([os.path.join(rel_path, file) for file in contents])\n",
    "\n",
    "local_test_img = pd.DataFrame(files, columns=['path'])        \n",
    "local_test_img.head()"
   ]
  },
  {
   "cell_type": "code",
   "execution_count": 15,
   "metadata": {},
   "outputs": [
    {
     "data": {
      "text/html": [
       "<div>\n",
       "<style scoped>\n",
       "    .dataframe tbody tr th:only-of-type {\n",
       "        vertical-align: middle;\n",
       "    }\n",
       "\n",
       "    .dataframe tbody tr th {\n",
       "        vertical-align: top;\n",
       "    }\n",
       "\n",
       "    .dataframe thead th {\n",
       "        text-align: right;\n",
       "    }\n",
       "</style>\n",
       "<table border=\"1\" class=\"dataframe\">\n",
       "  <thead>\n",
       "    <tr style=\"text-align: right;\">\n",
       "      <th></th>\n",
       "      <th>path</th>\n",
       "      <th>label</th>\n",
       "      <th>study_type</th>\n",
       "      <th>study_path</th>\n",
       "    </tr>\n",
       "  </thead>\n",
       "  <tbody>\n",
       "    <tr>\n",
       "      <th>0</th>\n",
       "      <td>dataset/local_radiographs/wrist/study15_positi...</td>\n",
       "      <td>1</td>\n",
       "      <td>wrist</td>\n",
       "      <td>dataset/local_radiographs/wrist/study15_positi...</td>\n",
       "    </tr>\n",
       "    <tr>\n",
       "      <th>1</th>\n",
       "      <td>dataset/local_radiographs/wrist/study15_positi...</td>\n",
       "      <td>1</td>\n",
       "      <td>wrist</td>\n",
       "      <td>dataset/local_radiographs/wrist/study15_positi...</td>\n",
       "    </tr>\n",
       "    <tr>\n",
       "      <th>2</th>\n",
       "      <td>dataset/local_radiographs/wrist/study16_negati...</td>\n",
       "      <td>0</td>\n",
       "      <td>wrist</td>\n",
       "      <td>dataset/local_radiographs/wrist/study16_negati...</td>\n",
       "    </tr>\n",
       "    <tr>\n",
       "      <th>3</th>\n",
       "      <td>dataset/local_radiographs/wrist/study16_negati...</td>\n",
       "      <td>0</td>\n",
       "      <td>wrist</td>\n",
       "      <td>dataset/local_radiographs/wrist/study16_negati...</td>\n",
       "    </tr>\n",
       "    <tr>\n",
       "      <th>4</th>\n",
       "      <td>dataset/local_radiographs/hand/study09_positiv...</td>\n",
       "      <td>1</td>\n",
       "      <td>hand</td>\n",
       "      <td>dataset/local_radiographs/hand/study09_positiv...</td>\n",
       "    </tr>\n",
       "  </tbody>\n",
       "</table>\n",
       "</div>"
      ],
      "text/plain": [
       "                                                path label study_type  \\\n",
       "0  dataset/local_radiographs/wrist/study15_positi...     1      wrist   \n",
       "1  dataset/local_radiographs/wrist/study15_positi...     1      wrist   \n",
       "2  dataset/local_radiographs/wrist/study16_negati...     0      wrist   \n",
       "3  dataset/local_radiographs/wrist/study16_negati...     0      wrist   \n",
       "4  dataset/local_radiographs/hand/study09_positiv...     1       hand   \n",
       "\n",
       "                                          study_path  \n",
       "0  dataset/local_radiographs/wrist/study15_positi...  \n",
       "1  dataset/local_radiographs/wrist/study15_positi...  \n",
       "2  dataset/local_radiographs/wrist/study16_negati...  \n",
       "3  dataset/local_radiographs/wrist/study16_negati...  \n",
       "4  dataset/local_radiographs/hand/study09_positiv...  "
      ]
     },
     "execution_count": 15,
     "metadata": {},
     "output_type": "execute_result"
    }
   ],
   "source": [
    "local_test_img['label'] = local_test_img['path'].map(\n",
    "    lambda x: '1' if 'positive' in x else '0'\n",
    ")\n",
    "\n",
    "local_test_img['study_type'] = local_test_img['path'].map(\n",
    "    lambda x: x.split('/')[2]\n",
    ")\n",
    "\n",
    "local_test_img['study_path'] = local_test_img['path'].map(\n",
    "    lambda x: x\n",
    ")\n",
    "\n",
    "\n",
    "\n",
    "local_test_img.head()\n"
   ]
  },
  {
   "cell_type": "code",
   "execution_count": 16,
   "metadata": {},
   "outputs": [],
   "source": [
    "img_height = img_width = 300\n",
    "\n",
    "def resize_img(img):\n",
    "    try:\n",
    "        img = cv2.cvtColor(img, cv2.COLOR_GRAY2RGB)\n",
    "    except:\n",
    "        print('error in resizing')\n",
    "        img1 = isinstance(img, type(None))\n",
    "        print('Does image is none: ', img1)\n",
    "        print(img.shape)\n",
    "    return cv2.resize(img, (img_height, img_width))\n",
    "\n",
    "def canny_cropping(img):\n",
    "    convert_img = np.array(img, dtype=np.uint8)\n",
    "\n",
    "    gray = cv2.cvtColor(convert_img, cv2.COLOR_RGB2GRAY)\n",
    "\n",
    "\n",
    "    ave_brightness = math.floor(np.average(gray))\n",
    "    min_pixel = min(gray.flatten())\n",
    "\n",
    "    edges = cv2.Canny(gray, min_pixel, ave_brightness)\n",
    "    cnts = cv2.findContours(edges.copy(), cv2.RETR_EXTERNAL, cv2.CHAIN_APPROX_SIMPLE)\n",
    "    cnts = cnts[0] if len(cnts) == 2 else cnts[1]\n",
    "    cnts = sorted(cnts, key=cv2.contourArea, reverse=True)\n",
    "\n",
    "    for c in cnts:\n",
    "        x, y, w, h = cv2.boundingRect(edges)\n",
    "        gray = gray[y:y+h, x:x+w]\n",
    "        break\n",
    "\n",
    "    return gray\n",
    "\n",
    "def apply_clahe(img):\n",
    "    clahe = cv2.createCLAHE(clipLimit=4.0, tileGridSize=(8, 8))\n",
    "    return clahe.apply(img.astype(np.uint8))\n",
    "\n",
    "def preprocessing_without_clahe(img):\n",
    "    cropped = canny_cropping(img)\n",
    "    return resize_img(cropped)\n",
    "\n",
    "def preprocessing_with_clahe(img):\n",
    "    cropped = canny_cropping(img)\n",
    "    clahe = apply_clahe(cropped)\n",
    "    return resize_img(clahe)"
   ]
  },
  {
   "cell_type": "code",
   "execution_count": 17,
   "metadata": {},
   "outputs": [
    {
     "name": "stdout",
     "output_type": "stream",
     "text": [
      "Found 40 validated image filenames belonging to 2 classes.\n"
     ]
    }
   ],
   "source": [
    "batch = 8\n",
    "\n",
    "test_batches_without_clahe = ImageDataGenerator(\n",
    "    preprocessing_function=preprocessing_without_clahe\n",
    ").flow_from_dataframe(\n",
    "    target_size=(img_height, img_width),\n",
    "    dataframe=local_test_img, \n",
    "    class_mode='binary',\n",
    "    x_col='path',\n",
    "    y_col='label',\n",
    "    batch_size=batch, \n",
    "    shuffle=False)"
   ]
  },
  {
   "cell_type": "code",
   "execution_count": 10,
   "metadata": {},
   "outputs": [],
   "source": [
    "model_without_clahe = tf.keras.models.load_model(\n",
    "    'models/without_clahe/efficientnetv2-b3_sgd_std_lr_finetuned_v2.h5',\n",
    "    custom_objects={'F1Score': F1Score}\n",
    ")"
   ]
  },
  {
   "cell_type": "code",
   "execution_count": 19,
   "metadata": {},
   "outputs": [
    {
     "name": "stdout",
     "output_type": "stream",
     "text": [
      "5/5 [==============================] - 2s 339ms/step\n"
     ]
    }
   ],
   "source": [
    "predictions_without_clahe = model_without_clahe.predict(test_batches_without_clahe, verbose=1)"
   ]
  },
  {
   "cell_type": "code",
   "execution_count": 20,
   "metadata": {},
   "outputs": [],
   "source": [
    "conv_prediction_without_clahe = local_test_img.copy()\n",
    "\n",
    "conv_prediction_without_clahe['label'] = conv_prediction_without_clahe['label'].map(int)\n",
    "conv_prediction_without_clahe['prediction'] = predictions_without_clahe.ravel()"
   ]
  },
  {
   "cell_type": "code",
   "execution_count": 21,
   "metadata": {},
   "outputs": [],
   "source": [
    "conv_prediction_without_clahe = pd.DataFrame(\n",
    "    [*study_oriented_transformation(conv_prediction_without_clahe)],\n",
    "    columns=['study_type', 'study', 'label', 'prediction'],\n",
    ")"
   ]
  },
  {
   "cell_type": "code",
   "execution_count": 22,
   "metadata": {},
   "outputs": [
    {
     "name": "stdout",
     "output_type": "stream",
     "text": [
      "====================================================\n",
      "Prediction for all local radiographs efficientnetv2-b3 without CLAHE\n",
      "-----------------\n",
      "Cohen's kappa Coefficient (κ) : 0.23076923076923084\n",
      "F1 Score                      : 0.6\n",
      "Accuracy                      : 0.6\n",
      "Precision                     : 0.75\n",
      "Recall                        : 0.5\n",
      "====================================================\n"
     ]
    }
   ],
   "source": [
    "results_without_clahe = prediction_results(conv_prediction_without_clahe)\n",
    "\n",
    "write_csv(\n",
    "    results_without_clahe, \n",
    "    f'testing_results/without_clahe/local_sample_general_prediction_results_{base_model}.csv'\n",
    ")\n",
    "\n",
    "print('=' * 52)\n",
    "print(f'Prediction for all local radiographs {base_model} without CLAHE')\n",
    "print('-----------------')\n",
    "for result in results_without_clahe[:-1]:\n",
    "    print(f\"{result['metric'] + ' ' * (30 - len(result['metric']))}: {result['value']}\")\n",
    "print('=' * 52)\n"
   ]
  },
  {
   "cell_type": "code",
   "execution_count": 23,
   "metadata": {},
   "outputs": [
    {
     "name": "stdout",
     "output_type": "stream",
     "text": [
      "[[12  4]\n",
      " [12 12]]\n"
     ]
    },
    {
     "data": {
      "text/plain": [
       "<Figure size 432x288 with 0 Axes>"
      ]
     },
     "metadata": {},
     "output_type": "display_data"
    }
   ],
   "source": [
    "cm_general_without_clahe = results_without_clahe[-1]['value']\n",
    "print(cm_general_without_clahe)\n",
    "plot_confusion_matrix(\n",
    "    cm_general_without_clahe, \n",
    "    CLASSES, \n",
    "    f'Local Radiographs Confusion Matrix for Model Without CLAHE {base_model}',\n",
    "    False,\n",
    ")"
   ]
  },
  {
   "cell_type": "code",
   "execution_count": 24,
   "metadata": {},
   "outputs": [
    {
     "name": "stdout",
     "output_type": "stream",
     "text": [
      "====================================================\n",
      "Prediction for elbow using efficientnetv2-b3 Without CLAHE\n",
      "-----------------\n",
      "Cohen's kappa Coefficient (κ) : 0.5\n",
      "F1 Score                      : 0.6666666666666666\n",
      "Accuracy                      : 0.75\n",
      "Precision                     : 1.0\n",
      "Recall                        : 0.5\n",
      "====================================================\n",
      "====================================================\n",
      "Prediction for finger using efficientnetv2-b3 Without CLAHE\n",
      "-----------------\n",
      "Cohen's kappa Coefficient (κ) : 0.11764705882352933\n",
      "F1 Score                      : 0.2857142857142857\n",
      "Accuracy                      : 0.4444444444444444\n",
      "Precision                     : 1.0\n",
      "Recall                        : 0.16666666666666666\n",
      "====================================================\n",
      "====================================================\n",
      "Prediction for forearm using efficientnetv2-b3 Without CLAHE\n",
      "-----------------\n",
      "Cohen's kappa Coefficient (κ) : 0.5\n",
      "F1 Score                      : 0.8\n",
      "Accuracy                      : 0.75\n",
      "Precision                     : 0.6666666666666666\n",
      "Recall                        : 1.0\n",
      "====================================================\n",
      "====================================================\n",
      "Prediction for hand using efficientnetv2-b3 Without CLAHE\n",
      "-----------------\n",
      "Cohen's kappa Coefficient (κ) : 0.19354838709677413\n",
      "F1 Score                      : 0.5454545454545454\n",
      "Accuracy                      : 0.5\n",
      "Precision                     : 1.0\n",
      "Recall                        : 0.375\n",
      "====================================================\n",
      "====================================================\n",
      "Prediction for humerus using efficientnetv2-b3 Without CLAHE\n",
      "-----------------\n",
      "Cohen's kappa Coefficient (κ) : 0.5\n",
      "F1 Score                      : 0.8\n",
      "Accuracy                      : 0.75\n",
      "Precision                     : 0.6666666666666666\n",
      "Recall                        : 1.0\n",
      "====================================================\n",
      "====================================================\n",
      "Prediction for shoulder using efficientnetv2-b3 Without CLAHE\n",
      "-----------------\n",
      "Cohen's kappa Coefficient (κ) : 0.2857142857142857\n",
      "F1 Score                      : 0.6666666666666666\n",
      "Accuracy                      : 0.6\n",
      "Precision                     : 0.5\n",
      "Recall                        : 1.0\n",
      "====================================================\n",
      "====================================================\n",
      "Prediction for wrist using efficientnetv2-b3 Without CLAHE\n",
      "-----------------\n",
      "Cohen's kappa Coefficient (κ) : 0.5\n",
      "F1 Score                      : 0.6666666666666666\n",
      "Accuracy                      : 0.75\n",
      "Precision                     : 1.0\n",
      "Recall                        : 0.5\n",
      "====================================================\n"
     ]
    },
    {
     "data": {
      "text/plain": [
       "<Figure size 432x288 with 0 Axes>"
      ]
     },
     "metadata": {},
     "output_type": "display_data"
    }
   ],
   "source": [
    "for body_part in STUDY_TYPES:\n",
    "    parts = conv_prediction_without_clahe[conv_prediction_without_clahe['study_type'] == body_part]\n",
    "    results = prediction_results(parts)\n",
    "    write_csv(\n",
    "        results_without_clahe, \n",
    "        f'testing_results/without_clahe/{body_part}__local_radiographs_prediction_results_{base_model}.csv'\n",
    "    )\n",
    "    parts_cm = results[-1]['value']\n",
    "    plot_confusion_matrix(\n",
    "        parts_cm, \n",
    "        CLASSES, \n",
    "        f'{body_part} Confusion Matrix for {base_model} Without CLAHE', \n",
    "        False\n",
    "    )\n",
    "    print('=' * 52)\n",
    "    print(f'Prediction for {body_part} using {base_model} Without CLAHE')\n",
    "    print('-----------------')\n",
    "    for result in results[:-1]:\n",
    "        print(f\"{result['metric'] + ' ' * (30 - len(result['metric']))}: {result['value']}\")\n",
    "    print('=' * 52)\n"
   ]
  },
  {
   "cell_type": "code",
   "execution_count": 25,
   "metadata": {},
   "outputs": [
    {
     "name": "stdout",
     "output_type": "stream",
     "text": [
      "Found 40 validated image filenames belonging to 2 classes.\n"
     ]
    }
   ],
   "source": [
    "batch = 8\n",
    "\n",
    "test_batches_with_clahe = ImageDataGenerator(\n",
    "    preprocessing_function=preprocessing_with_clahe\n",
    ").flow_from_dataframe(\n",
    "    target_size=(img_height, img_width),\n",
    "    dataframe=local_test_img, \n",
    "    class_mode='binary',\n",
    "    x_col='path',\n",
    "    y_col='label',\n",
    "    batch_size=batch, \n",
    "    shuffle=False)"
   ]
  },
  {
   "cell_type": "code",
   "execution_count": 26,
   "metadata": {},
   "outputs": [],
   "source": [
    "model_with_clahe = tf.keras.models.load_model(\n",
    "    'models/with_clahe/efficientnetv2-b3_sgd_std_lr_finetuned_v2.h5',\n",
    "    custom_objects={'F1Score': F1Score}\n",
    ")\n"
   ]
  },
  {
   "cell_type": "code",
   "execution_count": 27,
   "metadata": {},
   "outputs": [
    {
     "name": "stdout",
     "output_type": "stream",
     "text": [
      "5/5 [==============================] - 4s 368ms/step\n"
     ]
    }
   ],
   "source": [
    "predictions_with_clahe = model_with_clahe.predict(test_batches_with_clahe, verbose=1)"
   ]
  },
  {
   "cell_type": "code",
   "execution_count": 28,
   "metadata": {},
   "outputs": [],
   "source": [
    "conv_prediction_with_clahe = local_test_img.copy()\n",
    "\n",
    "conv_prediction_with_clahe['label'] = conv_prediction_with_clahe['label'].map(int)\n",
    "conv_prediction_with_clahe['prediction'] = predictions_with_clahe.ravel()"
   ]
  },
  {
   "cell_type": "code",
   "execution_count": 29,
   "metadata": {},
   "outputs": [],
   "source": [
    "conv_prediction_with_clahe = pd.DataFrame(\n",
    "    [*study_oriented_transformation(conv_prediction_with_clahe)],\n",
    "    columns=['study_type', 'study', 'label', 'prediction'],\n",
    ")"
   ]
  },
  {
   "cell_type": "code",
   "execution_count": 30,
   "metadata": {},
   "outputs": [
    {
     "name": "stdout",
     "output_type": "stream",
     "text": [
      "====================================================\n",
      "Prediction for all local radiographs efficientnetv2-b3 with CLAHE\n",
      "----------------------------------------------------\n",
      "Cohen's kappa Coefficient (κ) : 0.3137254901960784\n",
      "F1 Score                      : 0.6666666666666666\n",
      "Accuracy                      : 0.65\n",
      "Precision                     : 0.7777777777777778\n",
      "Recall                        : 0.5833333333333334\n",
      "====================================================\n"
     ]
    }
   ],
   "source": [
    "results_with_clahe = prediction_results(conv_prediction_with_clahe)\n",
    "\n",
    "write_csv(\n",
    "    results_with_clahe, \n",
    "    f'testing_results/with_clahe/local_sample_general_prediction_results_{base_model}.csv'\n",
    ")\n",
    "\n",
    "print('=' * 52)\n",
    "print(f'Prediction for all local radiographs {base_model} with CLAHE')\n",
    "print('-' * 52)\n",
    "for result in results_with_clahe[:-1]:\n",
    "    print(f\"{result['metric'] + ' ' * (30 - len(result['metric']))}: {result['value']}\")\n",
    "print('=' * 52)\n"
   ]
  },
  {
   "cell_type": "code",
   "execution_count": 31,
   "metadata": {},
   "outputs": [
    {
     "name": "stdout",
     "output_type": "stream",
     "text": [
      "[[12  4]\n",
      " [10 14]]\n"
     ]
    },
    {
     "data": {
      "text/plain": [
       "<Figure size 432x288 with 0 Axes>"
      ]
     },
     "metadata": {},
     "output_type": "display_data"
    }
   ],
   "source": [
    "cm_general_with_clahe = results_with_clahe[-1]['value']\n",
    "print(cm_general_with_clahe)\n",
    "plot_confusion_matrix(\n",
    "    cm_general_with_clahe, \n",
    "    CLASSES, \n",
    "    f'Local Radiographs Confusion Matrix for {base_model} With CLAHE',\n",
    "    True,\n",
    "    )"
   ]
  },
  {
   "cell_type": "code",
   "execution_count": 32,
   "metadata": {},
   "outputs": [
    {
     "name": "stdout",
     "output_type": "stream",
     "text": [
      "====================================================\n",
      "Prediction for elbow using efficientnetv2-b3 With CLAHE\n",
      "-----------------\n",
      "Cohen's kappa Coefficient (κ) : 0.5\n",
      "F1 Score                      : 0.6666666666666666\n",
      "Accuracy                      : 0.75\n",
      "Precision                     : 1.0\n",
      "Recall                        : 0.5\n",
      "====================================================\n",
      "====================================================\n",
      "Prediction for finger using efficientnetv2-b3 With CLAHE\n",
      "-----------------\n",
      "Cohen's kappa Coefficient (κ) : 0.0\n",
      "F1 Score                      : 0.4444444444444444\n",
      "Accuracy                      : 0.4444444444444444\n",
      "Precision                     : 0.6666666666666666\n",
      "Recall                        : 0.3333333333333333\n",
      "====================================================\n",
      "====================================================\n",
      "Prediction for forearm using efficientnetv2-b3 With CLAHE\n",
      "-----------------\n",
      "Cohen's kappa Coefficient (κ) : 0.5\n",
      "F1 Score                      : 0.8\n",
      "Accuracy                      : 0.75\n",
      "Precision                     : 0.6666666666666666\n",
      "Recall                        : 1.0\n",
      "====================================================\n",
      "====================================================\n",
      "Prediction for hand using efficientnetv2-b3 With CLAHE\n",
      "-----------------\n",
      "Cohen's kappa Coefficient (κ) : 0.2857142857142857\n",
      "F1 Score                      : 0.6666666666666666\n",
      "Accuracy                      : 0.6\n",
      "Precision                     : 1.0\n",
      "Recall                        : 0.5\n",
      "====================================================\n",
      "====================================================\n",
      "Prediction for humerus using efficientnetv2-b3 With CLAHE\n",
      "-----------------\n",
      "Cohen's kappa Coefficient (κ) : 0.5\n",
      "F1 Score                      : 0.8\n",
      "Accuracy                      : 0.75\n",
      "Precision                     : 0.6666666666666666\n",
      "Recall                        : 1.0\n",
      "====================================================\n",
      "====================================================\n",
      "Prediction for shoulder using efficientnetv2-b3 With CLAHE\n",
      "-----------------\n",
      "Cohen's kappa Coefficient (κ) : 0.6153846153846154\n",
      "F1 Score                      : 0.8\n",
      "Accuracy                      : 0.8\n",
      "Precision                     : 0.6666666666666666\n",
      "Recall                        : 1.0\n",
      "====================================================\n",
      "====================================================\n",
      "Prediction for wrist using efficientnetv2-b3 With CLAHE\n",
      "-----------------\n",
      "Cohen's kappa Coefficient (κ) : 0.5\n",
      "F1 Score                      : 0.6666666666666666\n",
      "Accuracy                      : 0.75\n",
      "Precision                     : 1.0\n",
      "Recall                        : 0.5\n",
      "====================================================\n"
     ]
    },
    {
     "data": {
      "text/plain": [
       "<Figure size 432x288 with 0 Axes>"
      ]
     },
     "metadata": {},
     "output_type": "display_data"
    }
   ],
   "source": [
    "for body_part in STUDY_TYPES:\n",
    "    parts = conv_prediction_with_clahe[conv_prediction_with_clahe['study_type'] == body_part]\n",
    "    results = prediction_results(parts)\n",
    "    write_csv(\n",
    "        results_with_clahe, \n",
    "        f'testing_results/with_clahe/{body_part}_local_radiographs_prediction_results_{base_model}.csv'\n",
    "    )\n",
    "    parts_cm = results[-1]['value']\n",
    "    plot_confusion_matrix(\n",
    "        parts_cm, \n",
    "        CLASSES, \n",
    "        f'{body_part} Confusion Matrix for {base_model} With CLAHE', \n",
    "        False\n",
    "    )\n",
    "    print('=' * 52)\n",
    "    print(f'Prediction for {body_part} using {base_model} With CLAHE')\n",
    "    print('-----------------')\n",
    "    for result in results[:-1]:\n",
    "        print(f\"{result['metric'] + ' ' * (30 - len(result['metric']))}: {result['value']}\")\n",
    "    print('=' * 52)\n"
   ]
  }
 ],
 "metadata": {
  "kernelspec": {
   "display_name": "Python 3.9.12 ('base')",
   "language": "python",
   "name": "python3"
  },
  "language_info": {
   "codemirror_mode": {
    "name": "ipython",
    "version": 3
   },
   "file_extension": ".py",
   "mimetype": "text/x-python",
   "name": "python",
   "nbconvert_exporter": "python",
   "pygments_lexer": "ipython3",
   "version": "3.9.12"
  },
  "orig_nbformat": 4,
  "vscode": {
   "interpreter": {
    "hash": "9b0cc3e6214bc0756da043f0ee15aa438a0d40b32cd48e23ee589d8d1ee0de9a"
   }
  }
 },
 "nbformat": 4,
 "nbformat_minor": 2
}
