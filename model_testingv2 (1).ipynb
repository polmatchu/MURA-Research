{
 "cells": [
  {
   "cell_type": "code",
   "execution_count": null,
   "metadata": {},
   "outputs": [],
   "source": [
    "import numpy as np\n",
    "import matplotlib.pyplot as plt\n",
    "import os\n",
    "import cv2\n",
    "import pandas as pd\n",
    "import tensorflow as tf\n",
    "import math\n",
    "import tensorflow_addons as tfa\n",
    "import random\n",
    "import re\n",
    "import csv\n",
    "\n",
    "from tensorflow.keras.models import Model\n",
    "from sklearn import metrics\n",
    "from sklearn.utils import shuffle\n",
    "from tensorflow.keras.preprocessing.image import ImageDataGenerator\n",
    "from mlxtend.evaluate import mcnemar_table\n",
    "from statsmodels.stats.contingency_tables import mcnemar\n",
    "\n",
    "\n",
    "\n",
    "\n",
    "from utils import (\n",
    "    F1Score,\n",
    "    plot_metrics,\n",
    "    plot_accuracy,\n",
    "    study_oriented_transformation,\n",
    "    write_csv,\n",
    "    prediction_results,\n",
    "    plot_confusion_matrix,\n",
    "    plot_contigency_table,\n",
    ")\n"
   ]
  },
  {
   "cell_type": "code",
   "execution_count": null,
   "metadata": {},
   "outputs": [
    {
     "name": "stdout",
     "output_type": "stream",
     "text": [
      "Num GPUs Available:  1\n"
     ]
    },
    {
     "name": "stderr",
     "output_type": "stream",
     "text": [
      "2022-11-20 18:55:00.251408: I tensorflow/stream_executor/cuda/cuda_gpu_executor.cc:961] could not open file to read NUMA node: /sys/bus/pci/devices/0000:01:00.0/numa_node\n",
      "Your kernel may have been built without NUMA support.\n",
      "2022-11-20 18:55:00.299828: I tensorflow/stream_executor/cuda/cuda_gpu_executor.cc:961] could not open file to read NUMA node: /sys/bus/pci/devices/0000:01:00.0/numa_node\n",
      "Your kernel may have been built without NUMA support.\n",
      "2022-11-20 18:55:00.300643: I tensorflow/stream_executor/cuda/cuda_gpu_executor.cc:961] could not open file to read NUMA node: /sys/bus/pci/devices/0000:01:00.0/numa_node\n",
      "Your kernel may have been built without NUMA support.\n"
     ]
    }
   ],
   "source": [
    "# To Activate GPU if there is\n",
    "physical_devices = tf.config.experimental.list_physical_devices('GPU')\n",
    "print(\"Num GPUs Available: \", len(physical_devices))\n",
    "tf.config.experimental.set_memory_growth(physical_devices[0], True)"
   ]
  },
  {
   "cell_type": "code",
   "execution_count": null,
   "metadata": {},
   "outputs": [],
   "source": [
    "SEED = 1037\n",
    "\n",
    "os.environ[\"PYTHONHASHSEED\"] = str(SEED)\n",
    "random.seed(SEED)\n",
    "tf.random.set_seed(SEED)\n",
    "np.random.seed(SEED)\n"
   ]
  },
  {
   "cell_type": "code",
   "execution_count": null,
   "metadata": {},
   "outputs": [
    {
     "name": "stderr",
     "output_type": "stream",
     "text": [
      "2022-11-20 18:55:00.612850: I tensorflow/core/platform/cpu_feature_guard.cc:193] This TensorFlow binary is optimized with oneAPI Deep Neural Network Library (oneDNN) to use the following CPU instructions in performance-critical operations:  AVX2 FMA\n",
      "To enable them in other operations, rebuild TensorFlow with the appropriate compiler flags.\n",
      "2022-11-20 18:55:00.617796: I tensorflow/stream_executor/cuda/cuda_gpu_executor.cc:961] could not open file to read NUMA node: /sys/bus/pci/devices/0000:01:00.0/numa_node\n",
      "Your kernel may have been built without NUMA support.\n",
      "2022-11-20 18:55:00.618894: I tensorflow/stream_executor/cuda/cuda_gpu_executor.cc:961] could not open file to read NUMA node: /sys/bus/pci/devices/0000:01:00.0/numa_node\n",
      "Your kernel may have been built without NUMA support.\n",
      "2022-11-20 18:55:00.619837: I tensorflow/stream_executor/cuda/cuda_gpu_executor.cc:961] could not open file to read NUMA node: /sys/bus/pci/devices/0000:01:00.0/numa_node\n",
      "Your kernel may have been built without NUMA support.\n",
      "2022-11-20 18:55:01.964727: I tensorflow/stream_executor/cuda/cuda_gpu_executor.cc:961] could not open file to read NUMA node: /sys/bus/pci/devices/0000:01:00.0/numa_node\n",
      "Your kernel may have been built without NUMA support.\n",
      "2022-11-20 18:55:01.965635: I tensorflow/stream_executor/cuda/cuda_gpu_executor.cc:961] could not open file to read NUMA node: /sys/bus/pci/devices/0000:01:00.0/numa_node\n",
      "Your kernel may have been built without NUMA support.\n",
      "2022-11-20 18:55:01.965682: I tensorflow/core/common_runtime/gpu/gpu_device.cc:1616] Could not identify NUMA node of platform GPU id 0, defaulting to 0.  Your kernel may not have been built with NUMA support.\n",
      "2022-11-20 18:55:01.966492: I tensorflow/stream_executor/cuda/cuda_gpu_executor.cc:961] could not open file to read NUMA node: /sys/bus/pci/devices/0000:01:00.0/numa_node\n",
      "Your kernel may have been built without NUMA support.\n",
      "2022-11-20 18:55:01.966872: I tensorflow/core/common_runtime/gpu/gpu_device.cc:1532] Created device /job:localhost/replica:0/task:0/device:GPU:0 with 5440 MB memory:  -> device: 0, name: NVIDIA GeForce RTX 3070 Laptop GPU, pci bus id: 0000:01:00.0, compute capability: 8.6\n"
     ]
    }
   ],
   "source": [
    "METRICS = [ \n",
    "    tf.keras.metrics.BinaryAccuracy(),\n",
    "    tf.keras.metrics.Precision(name=\"precision\"),\n",
    "    tf.keras.metrics.Recall(name=\"recall\"),\n",
    "    tfa.metrics.CohenKappa(name=\"cohen_kappa\", num_classes=2),\n",
    "    F1Score(name=\"f1_score\"),\n",
    "]\n",
    "\n",
    "STUDY_TYPES = [\n",
    "    'XR_ELBOW',\n",
    "    'XR_FINGER',\n",
    "    'XR_FOREARM',\n",
    "    'XR_HAND',\n",
    "    'XR_HUMERUS',\n",
    "    'XR_SHOULDER',\n",
    "    'XR_WRIST',\n",
    "]\n",
    "\n",
    "CLASSES = ['NORMAL', 'ABNORMAL']"
   ]
  },
  {
   "cell_type": "code",
   "execution_count": null,
   "metadata": {},
   "outputs": [],
   "source": [
    "base_model = 'EfficientnetV2-S'"
   ]
  },
  {
   "cell_type": "code",
   "execution_count": null,
   "metadata": {},
   "outputs": [],
   "source": [
    "data_directory = 'dataset'\n",
    "test_img = pd.read_csv(os.path.join(data_directory, 'MURA-v1.1_mod/test_image_paths.csv'), names=['path'])"
   ]
  },
  {
   "cell_type": "code",
   "execution_count": null,
   "metadata": {},
   "outputs": [
    {
     "data": {
      "text/html": [
       "<div>\n",
       "<style scoped>\n",
       "    .dataframe tbody tr th:only-of-type {\n",
       "        vertical-align: middle;\n",
       "    }\n",
       "\n",
       "    .dataframe tbody tr th {\n",
       "        vertical-align: top;\n",
       "    }\n",
       "\n",
       "    .dataframe thead th {\n",
       "        text-align: right;\n",
       "    }\n",
       "</style>\n",
       "<table border=\"1\" class=\"dataframe\">\n",
       "  <thead>\n",
       "    <tr style=\"text-align: right;\">\n",
       "      <th></th>\n",
       "      <th>path</th>\n",
       "      <th>label</th>\n",
       "      <th>study_type</th>\n",
       "      <th>study</th>\n",
       "      <th>study_path</th>\n",
       "    </tr>\n",
       "  </thead>\n",
       "  <tbody>\n",
       "    <tr>\n",
       "      <th>0</th>\n",
       "      <td>MURA-v1.1_mod/test/XR_WRIST/patient11185/study...</td>\n",
       "      <td>1</td>\n",
       "      <td>XR_WRIST</td>\n",
       "      <td>study1_positive</td>\n",
       "      <td>MURA-v1.1_mod/test/XR_WRIST/patient11185/study...</td>\n",
       "    </tr>\n",
       "    <tr>\n",
       "      <th>1</th>\n",
       "      <td>MURA-v1.1_mod/test/XR_WRIST/patient11185/study...</td>\n",
       "      <td>1</td>\n",
       "      <td>XR_WRIST</td>\n",
       "      <td>study1_positive</td>\n",
       "      <td>MURA-v1.1_mod/test/XR_WRIST/patient11185/study...</td>\n",
       "    </tr>\n",
       "    <tr>\n",
       "      <th>2</th>\n",
       "      <td>MURA-v1.1_mod/test/XR_WRIST/patient11185/study...</td>\n",
       "      <td>1</td>\n",
       "      <td>XR_WRIST</td>\n",
       "      <td>study1_positive</td>\n",
       "      <td>MURA-v1.1_mod/test/XR_WRIST/patient11185/study...</td>\n",
       "    </tr>\n",
       "    <tr>\n",
       "      <th>3</th>\n",
       "      <td>MURA-v1.1_mod/test/XR_WRIST/patient11185/study...</td>\n",
       "      <td>1</td>\n",
       "      <td>XR_WRIST</td>\n",
       "      <td>study1_positive</td>\n",
       "      <td>MURA-v1.1_mod/test/XR_WRIST/patient11185/study...</td>\n",
       "    </tr>\n",
       "    <tr>\n",
       "      <th>4</th>\n",
       "      <td>MURA-v1.1_mod/test/XR_WRIST/patient11186/study...</td>\n",
       "      <td>1</td>\n",
       "      <td>XR_WRIST</td>\n",
       "      <td>study1_positive</td>\n",
       "      <td>MURA-v1.1_mod/test/XR_WRIST/patient11186/study...</td>\n",
       "    </tr>\n",
       "    <tr>\n",
       "      <th>...</th>\n",
       "      <td>...</td>\n",
       "      <td>...</td>\n",
       "      <td>...</td>\n",
       "      <td>...</td>\n",
       "      <td>...</td>\n",
       "    </tr>\n",
       "    <tr>\n",
       "      <th>3192</th>\n",
       "      <td>MURA-v1.1_mod/test/XR_FINGER/patient11967/stud...</td>\n",
       "      <td>0</td>\n",
       "      <td>XR_FINGER</td>\n",
       "      <td>study1_negative</td>\n",
       "      <td>MURA-v1.1_mod/test/XR_FINGER/patient11967/stud...</td>\n",
       "    </tr>\n",
       "    <tr>\n",
       "      <th>3193</th>\n",
       "      <td>MURA-v1.1_mod/test/XR_FINGER/patient11967/stud...</td>\n",
       "      <td>0</td>\n",
       "      <td>XR_FINGER</td>\n",
       "      <td>study1_negative</td>\n",
       "      <td>MURA-v1.1_mod/test/XR_FINGER/patient11967/stud...</td>\n",
       "    </tr>\n",
       "    <tr>\n",
       "      <th>3194</th>\n",
       "      <td>MURA-v1.1_mod/test/XR_FINGER/patient11738/stud...</td>\n",
       "      <td>0</td>\n",
       "      <td>XR_FINGER</td>\n",
       "      <td>study1_negative</td>\n",
       "      <td>MURA-v1.1_mod/test/XR_FINGER/patient11738/stud...</td>\n",
       "    </tr>\n",
       "    <tr>\n",
       "      <th>3195</th>\n",
       "      <td>MURA-v1.1_mod/test/XR_FINGER/patient11738/stud...</td>\n",
       "      <td>0</td>\n",
       "      <td>XR_FINGER</td>\n",
       "      <td>study1_negative</td>\n",
       "      <td>MURA-v1.1_mod/test/XR_FINGER/patient11738/stud...</td>\n",
       "    </tr>\n",
       "    <tr>\n",
       "      <th>3196</th>\n",
       "      <td>MURA-v1.1_mod/test/XR_FINGER/patient11738/stud...</td>\n",
       "      <td>0</td>\n",
       "      <td>XR_FINGER</td>\n",
       "      <td>study1_negative</td>\n",
       "      <td>MURA-v1.1_mod/test/XR_FINGER/patient11738/stud...</td>\n",
       "    </tr>\n",
       "  </tbody>\n",
       "</table>\n",
       "<p>3197 rows × 5 columns</p>\n",
       "</div>"
      ],
      "text/plain": [
       "                                                   path label study_type  \\\n",
       "0     MURA-v1.1_mod/test/XR_WRIST/patient11185/study...     1   XR_WRIST   \n",
       "1     MURA-v1.1_mod/test/XR_WRIST/patient11185/study...     1   XR_WRIST   \n",
       "2     MURA-v1.1_mod/test/XR_WRIST/patient11185/study...     1   XR_WRIST   \n",
       "3     MURA-v1.1_mod/test/XR_WRIST/patient11185/study...     1   XR_WRIST   \n",
       "4     MURA-v1.1_mod/test/XR_WRIST/patient11186/study...     1   XR_WRIST   \n",
       "...                                                 ...   ...        ...   \n",
       "3192  MURA-v1.1_mod/test/XR_FINGER/patient11967/stud...     0  XR_FINGER   \n",
       "3193  MURA-v1.1_mod/test/XR_FINGER/patient11967/stud...     0  XR_FINGER   \n",
       "3194  MURA-v1.1_mod/test/XR_FINGER/patient11738/stud...     0  XR_FINGER   \n",
       "3195  MURA-v1.1_mod/test/XR_FINGER/patient11738/stud...     0  XR_FINGER   \n",
       "3196  MURA-v1.1_mod/test/XR_FINGER/patient11738/stud...     0  XR_FINGER   \n",
       "\n",
       "                study                                         study_path  \n",
       "0     study1_positive  MURA-v1.1_mod/test/XR_WRIST/patient11185/study...  \n",
       "1     study1_positive  MURA-v1.1_mod/test/XR_WRIST/patient11185/study...  \n",
       "2     study1_positive  MURA-v1.1_mod/test/XR_WRIST/patient11185/study...  \n",
       "3     study1_positive  MURA-v1.1_mod/test/XR_WRIST/patient11185/study...  \n",
       "4     study1_positive  MURA-v1.1_mod/test/XR_WRIST/patient11186/study...  \n",
       "...               ...                                                ...  \n",
       "3192  study1_negative  MURA-v1.1_mod/test/XR_FINGER/patient11967/stud...  \n",
       "3193  study1_negative  MURA-v1.1_mod/test/XR_FINGER/patient11967/stud...  \n",
       "3194  study1_negative  MURA-v1.1_mod/test/XR_FINGER/patient11738/stud...  \n",
       "3195  study1_negative  MURA-v1.1_mod/test/XR_FINGER/patient11738/stud...  \n",
       "3196  study1_negative  MURA-v1.1_mod/test/XR_FINGER/patient11738/stud...  \n",
       "\n",
       "[3197 rows x 5 columns]"
      ]
     },
     "execution_count": 7,
     "metadata": {},
     "output_type": "execute_result"
    }
   ],
   "source": [
    "test_img['label'] = test_img['path'].map(\n",
    "    lambda x: '1' if 'positive' in x else '0'\n",
    ")\n",
    "\n",
    "test_img['study_type'] = test_img['path'].map(\n",
    "    lambda x: x.split('/')[2]\n",
    ")\n",
    "\n",
    "test_img['study'] = test_img['path'].map(\n",
    "    lambda x: x.split(\"/\")[4]\n",
    ")\n",
    "\n",
    "test_img['study_path'] = test_img['path'].map(\n",
    "    lambda x: re.sub(r\"image\\d+.png\", \"\", x)\n",
    ")\n",
    "test_img"
   ]
  },
  {
   "cell_type": "code",
   "execution_count": null,
   "metadata": {},
   "outputs": [],
   "source": [
    "img_height = img_width = 380\n",
    "\n",
    "def resize_img(img):\n",
    "    try:\n",
    "        img = cv2.cvtColor(img, cv2.COLOR_GRAY2RGB)\n",
    "    except:\n",
    "        print('error in resizing')\n",
    "        img1 = isinstance(img, type(None))\n",
    "        print('Does image is none: ', img1)\n",
    "        print(img.shape)\n",
    "    return cv2.resize(img, (img_height, img_width))\n",
    "\n",
    "def canny_cropping(img):\n",
    "    convert_img = np.array(img, dtype=np.uint8)\n",
    "\n",
    "    gray = cv2.cvtColor(convert_img, cv2.COLOR_RGB2GRAY)\n",
    "\n",
    "\n",
    "    ave_brightness = math.floor(np.average(gray))\n",
    "    min_pixel = min(gray.flatten())\n",
    "\n",
    "    edges = cv2.Canny(gray, min_pixel, ave_brightness)\n",
    "    cnts = cv2.findContours(edges.copy(), cv2.RETR_EXTERNAL, cv2.CHAIN_APPROX_SIMPLE)\n",
    "    cnts = cnts[0] if len(cnts) == 2 else cnts[1]\n",
    "    cnts = sorted(cnts, key=cv2.contourArea, reverse=True)\n",
    "\n",
    "    for c in cnts:\n",
    "        x, y, w, h = cv2.boundingRect(edges)\n",
    "        gray = gray[y:y+h, x:x+w]\n",
    "        break\n",
    "\n",
    "    return gray\n",
    "\n",
    "def apply_clahe(img):\n",
    "    clahe = cv2.createCLAHE(clipLimit=4.0, tileGridSize=(8, 8))\n",
    "    return clahe.apply(img.astype(np.uint8))\n",
    "\n",
    "def preprocessing_without_clahe(img):\n",
    "    cropped = canny_cropping(img)\n",
    "    return resize_img(cropped)\n",
    "\n",
    "def preprocessing_with_clahe(img):\n",
    "    cropped = canny_cropping(img)\n",
    "    clahe = apply_clahe(cropped)\n",
    "    return resize_img(clahe)\n"
   ]
  },
  {
   "cell_type": "markdown",
   "metadata": {},
   "source": [
    "# Evaluation of Model Without CLAHE"
   ]
  },
  {
   "cell_type": "code",
   "execution_count": null,
   "metadata": {},
   "outputs": [
    {
     "name": "stdout",
     "output_type": "stream",
     "text": [
      "Found 3197 validated image filenames belonging to 2 classes.\n"
     ]
    }
   ],
   "source": [
    "batch = 8\n",
    "data_path = 'dataset/'\n",
    "\n",
    "test_batches_without_clahe = ImageDataGenerator(\n",
    "    preprocessing_function=preprocessing_without_clahe\n",
    ").flow_from_dataframe(\n",
    "    target_size=(img_height, img_width),\n",
    "    dataframe=test_img, \n",
    "    directory= data_path,\n",
    "    class_mode='binary',\n",
    "    x_col='path',\n",
    "    y_col='label',\n",
    "    batch_size=batch, \n",
    "    shuffle=False)"
   ]
  },
  {
   "cell_type": "code",
   "execution_count": null,
   "metadata": {},
   "outputs": [],
   "source": [
    "model_without_clahe = tf.keras.models.load_model(\n",
    "    'models/without_clahe/efficientnetv2-S_sgd_std_lr_finetuned.h5',\n",
    "    custom_objects={'F1Score': F1Score}\n",
    ")"
   ]
  },
  {
   "cell_type": "code",
   "execution_count": null,
   "metadata": {},
   "outputs": [
    {
     "name": "stderr",
     "output_type": "stream",
     "text": [
      "2022-11-20 18:55:13.972837: I tensorflow/stream_executor/cuda/cuda_dnn.cc:384] Loaded cuDNN version 8500\n",
      "2022-11-20 18:55:15.648091: I tensorflow/core/platform/default/subprocess.cc:304] Start cannot spawn child process: No such file or directory\n"
     ]
    },
    {
     "name": "stdout",
     "output_type": "stream",
     "text": [
      "  2/400 [..............................] - ETA: 22s    "
     ]
    },
    {
     "name": "stderr",
     "output_type": "stream",
     "text": [
      "2022-11-20 18:55:17.677960: I tensorflow/stream_executor/cuda/cuda_blas.cc:1786] TensorFloat-32 will be used for the matrix multiplication. This will only be logged once.\n"
     ]
    },
    {
     "name": "stdout",
     "output_type": "stream",
     "text": [
      "400/400 [==============================] - 63s 134ms/step\n"
     ]
    }
   ],
   "source": [
    "predictions_without_clahe = model_without_clahe.predict(test_batches_without_clahe, verbose=1)"
   ]
  },
  {
   "cell_type": "code",
   "execution_count": null,
   "metadata": {},
   "outputs": [],
   "source": [
    "conv_prediction_without_clahe = test_img.copy()\n",
    "\n",
    "conv_prediction_without_clahe['label'] = conv_prediction_without_clahe['label'].map(int)\n",
    "conv_prediction_without_clahe['prediction'] = predictions_without_clahe.ravel()"
   ]
  },
  {
   "cell_type": "code",
   "execution_count": null,
   "metadata": {},
   "outputs": [
    {
     "data": {
      "text/html": [
       "<div>\n",
       "<style scoped>\n",
       "    .dataframe tbody tr th:only-of-type {\n",
       "        vertical-align: middle;\n",
       "    }\n",
       "\n",
       "    .dataframe tbody tr th {\n",
       "        vertical-align: top;\n",
       "    }\n",
       "\n",
       "    .dataframe thead th {\n",
       "        text-align: right;\n",
       "    }\n",
       "</style>\n",
       "<table border=\"1\" class=\"dataframe\">\n",
       "  <thead>\n",
       "    <tr style=\"text-align: right;\">\n",
       "      <th></th>\n",
       "      <th>study_type</th>\n",
       "      <th>study</th>\n",
       "      <th>label</th>\n",
       "      <th>prediction</th>\n",
       "    </tr>\n",
       "  </thead>\n",
       "  <tbody>\n",
       "    <tr>\n",
       "      <th>0</th>\n",
       "      <td>XR_ELBOW</td>\n",
       "      <td>MURA-v1.1_mod/test/XR_ELBOW/patient11186/study...</td>\n",
       "      <td>1</td>\n",
       "      <td>1</td>\n",
       "    </tr>\n",
       "    <tr>\n",
       "      <th>1</th>\n",
       "      <td>XR_ELBOW</td>\n",
       "      <td>MURA-v1.1_mod/test/XR_ELBOW/patient11189/study...</td>\n",
       "      <td>1</td>\n",
       "      <td>1</td>\n",
       "    </tr>\n",
       "    <tr>\n",
       "      <th>2</th>\n",
       "      <td>XR_ELBOW</td>\n",
       "      <td>MURA-v1.1_mod/test/XR_ELBOW/patient11204/study...</td>\n",
       "      <td>0</td>\n",
       "      <td>0</td>\n",
       "    </tr>\n",
       "    <tr>\n",
       "      <th>3</th>\n",
       "      <td>XR_ELBOW</td>\n",
       "      <td>MURA-v1.1_mod/test/XR_ELBOW/patient11205/study...</td>\n",
       "      <td>0</td>\n",
       "      <td>0</td>\n",
       "    </tr>\n",
       "    <tr>\n",
       "      <th>4</th>\n",
       "      <td>XR_ELBOW</td>\n",
       "      <td>MURA-v1.1_mod/test/XR_ELBOW/patient11217/study...</td>\n",
       "      <td>0</td>\n",
       "      <td>0</td>\n",
       "    </tr>\n",
       "    <tr>\n",
       "      <th>...</th>\n",
       "      <td>...</td>\n",
       "      <td>...</td>\n",
       "      <td>...</td>\n",
       "      <td>...</td>\n",
       "    </tr>\n",
       "    <tr>\n",
       "      <th>1194</th>\n",
       "      <td>XR_WRIST</td>\n",
       "      <td>MURA-v1.1_mod/test/XR_WRIST/patient11387/study...</td>\n",
       "      <td>0</td>\n",
       "      <td>0</td>\n",
       "    </tr>\n",
       "    <tr>\n",
       "      <th>1195</th>\n",
       "      <td>XR_WRIST</td>\n",
       "      <td>MURA-v1.1_mod/test/XR_WRIST/patient11388/study...</td>\n",
       "      <td>0</td>\n",
       "      <td>0</td>\n",
       "    </tr>\n",
       "    <tr>\n",
       "      <th>1196</th>\n",
       "      <td>XR_WRIST</td>\n",
       "      <td>MURA-v1.1_mod/test/XR_WRIST/patient11389/study...</td>\n",
       "      <td>0</td>\n",
       "      <td>0</td>\n",
       "    </tr>\n",
       "    <tr>\n",
       "      <th>1197</th>\n",
       "      <td>XR_WRIST</td>\n",
       "      <td>MURA-v1.1_mod/test/XR_WRIST/patient11390/study...</td>\n",
       "      <td>0</td>\n",
       "      <td>0</td>\n",
       "    </tr>\n",
       "    <tr>\n",
       "      <th>1198</th>\n",
       "      <td>XR_WRIST</td>\n",
       "      <td>MURA-v1.1_mod/test/XR_WRIST/patient11391/study...</td>\n",
       "      <td>0</td>\n",
       "      <td>0</td>\n",
       "    </tr>\n",
       "  </tbody>\n",
       "</table>\n",
       "<p>1199 rows × 4 columns</p>\n",
       "</div>"
      ],
      "text/plain": [
       "     study_type                                              study  label  \\\n",
       "0      XR_ELBOW  MURA-v1.1_mod/test/XR_ELBOW/patient11186/study...      1   \n",
       "1      XR_ELBOW  MURA-v1.1_mod/test/XR_ELBOW/patient11189/study...      1   \n",
       "2      XR_ELBOW  MURA-v1.1_mod/test/XR_ELBOW/patient11204/study...      0   \n",
       "3      XR_ELBOW  MURA-v1.1_mod/test/XR_ELBOW/patient11205/study...      0   \n",
       "4      XR_ELBOW  MURA-v1.1_mod/test/XR_ELBOW/patient11217/study...      0   \n",
       "...         ...                                                ...    ...   \n",
       "1194   XR_WRIST  MURA-v1.1_mod/test/XR_WRIST/patient11387/study...      0   \n",
       "1195   XR_WRIST  MURA-v1.1_mod/test/XR_WRIST/patient11388/study...      0   \n",
       "1196   XR_WRIST  MURA-v1.1_mod/test/XR_WRIST/patient11389/study...      0   \n",
       "1197   XR_WRIST  MURA-v1.1_mod/test/XR_WRIST/patient11390/study...      0   \n",
       "1198   XR_WRIST  MURA-v1.1_mod/test/XR_WRIST/patient11391/study...      0   \n",
       "\n",
       "      prediction  \n",
       "0              1  \n",
       "1              1  \n",
       "2              0  \n",
       "3              0  \n",
       "4              0  \n",
       "...          ...  \n",
       "1194           0  \n",
       "1195           0  \n",
       "1196           0  \n",
       "1197           0  \n",
       "1198           0  \n",
       "\n",
       "[1199 rows x 4 columns]"
      ]
     },
     "execution_count": 13,
     "metadata": {},
     "output_type": "execute_result"
    }
   ],
   "source": [
    "conv_prediction_without_clahe = pd.DataFrame(\n",
    "    [*study_oriented_transformation(conv_prediction_without_clahe)],\n",
    "    columns=['study_type', 'study', 'label', 'prediction'],\n",
    ")\n",
    "conv_prediction_without_clahe"
   ]
  },
  {
   "cell_type": "markdown",
   "metadata": {},
   "source": [
    "## Evaluation for all body parts concerned"
   ]
  },
  {
   "cell_type": "code",
   "execution_count": null,
   "metadata": {},
   "outputs": [
    {
     "name": "stdout",
     "output_type": "stream",
     "text": [
      "====================================================\n",
      "Prediction for all Musculoskeletal radiographs\n",
      "-----------------\n",
      "Cohen's kappa Coefficient (κ) : 0.6945979289902938\n",
      "F1 Score                      : 0.8222442899702085\n",
      "Accuracy                      : 0.8507089241034195\n",
      "Precision                     : 0.8827292110874201\n",
      "Recall                        : 0.7695167286245354\n",
      "====================================================\n"
     ]
    }
   ],
   "source": [
    "results_without_clahe = prediction_results(conv_prediction_without_clahe)\n",
    "\n",
    "write_csv(\n",
    "    results_without_clahe, \n",
    "    f'testing_results/without_clahe/general_prediction_{base_model}_without_clahe.csv'\n",
    ")\n",
    "\n",
    "print('=' * 52)\n",
    "print('Prediction for all Musculoskeletal radiographs')\n",
    "print('-----------------')\n",
    "for result in results_without_clahe[:-1]:\n",
    "    print(f\"{result['metric'] + ' ' * (30 - len(result['metric']))}: {result['value']}\")\n",
    "print('=' * 52)\n"
   ]
  },
  {
   "cell_type": "code",
   "execution_count": null,
   "metadata": {},
   "outputs": [
    {
     "name": "stdout",
     "output_type": "stream",
     "text": [
      "[[606  55]\n",
      " [124 414]]\n"
     ]
    },
    {
     "data": {
      "text/plain": [
       "<Figure size 432x288 with 0 Axes>"
      ]
     },
     "metadata": {},
     "output_type": "display_data"
    }
   ],
   "source": [
    "cm_general_without_clahe = results_without_clahe[-1]['value']\n",
    "print(cm_general_without_clahe)\n",
    "plot_confusion_matrix(\n",
    "    cm_general_without_clahe, \n",
    "    CLASSES, \n",
    "    f'MURA Testing Confusion Matrix for {base_model}Without CLAHE',\n",
    "    False,\n",
    ")"
   ]
  },
  {
   "cell_type": "markdown",
   "metadata": {},
   "source": [
    "## Evaluation per body types"
   ]
  },
  {
   "cell_type": "code",
   "execution_count": null,
   "metadata": {},
   "outputs": [
    {
     "name": "stdout",
     "output_type": "stream",
     "text": [
      "====================================================\n",
      "Prediction for XR_ELBOW radiographs\n",
      "-----------------\n",
      "Cohen's kappa Coefficient (κ) : 0.6935402260077584\n",
      "F1 Score                      : 0.8099173553719009\n",
      "Accuracy                      : 0.8544303797468354\n",
      "Precision                     : 0.8909090909090909\n",
      "Recall                        : 0.7424242424242424\n",
      "====================================================\n",
      "====================================================\n",
      "Prediction for XR_FINGER radiographs\n",
      "-----------------\n",
      "Cohen's kappa Coefficient (κ) : 0.6529613960867267\n",
      "F1 Score                      : 0.7999999999999999\n",
      "Accuracy                      : 0.8285714285714286\n",
      "Precision                     : 0.8955223880597015\n",
      "Recall                        : 0.7228915662650602\n",
      "====================================================\n",
      "====================================================\n",
      "Prediction for XR_FOREARM radiographs\n",
      "-----------------\n",
      "Cohen's kappa Coefficient (κ) : 0.7111009488967646\n",
      "F1 Score                      : 0.8288288288288289\n",
      "Accuracy                      : 0.8571428571428571\n",
      "Precision                     : 0.9787234042553191\n",
      "Recall                        : 0.71875\n",
      "====================================================\n",
      "====================================================\n",
      "Prediction for XR_HAND radiographs\n",
      "-----------------\n",
      "Cohen's kappa Coefficient (κ) : 0.645991991834812\n",
      "F1 Score                      : 0.7652173913043478\n",
      "Accuracy                      : 0.8383233532934131\n",
      "Precision                     : 0.8979591836734694\n",
      "Recall                        : 0.6666666666666666\n",
      "====================================================\n",
      "====================================================\n",
      "Prediction for XR_HUMERUS radiographs\n",
      "-----------------\n",
      "Cohen's kappa Coefficient (κ) : 0.777789970371996\n",
      "F1 Score                      : 0.888888888888889\n",
      "Accuracy                      : 0.8888888888888888\n",
      "Precision                     : 0.8823529411764706\n",
      "Recall                        : 0.8955223880597015\n",
      "====================================================\n",
      "====================================================\n",
      "Prediction for XR_SHOULDER radiographs\n",
      "-----------------\n",
      "Cohen's kappa Coefficient (κ) : 0.5980235894166401\n",
      "F1 Score                      : 0.7979274611398963\n",
      "Accuracy                      : 0.7989690721649485\n",
      "Precision                     : 0.7857142857142857\n",
      "Recall                        : 0.8105263157894737\n",
      "====================================================\n",
      "====================================================\n",
      "Prediction for XR_WRIST radiographs\n",
      "-----------------\n",
      "Cohen's kappa Coefficient (κ) : 0.7687284191562829\n",
      "F1 Score                      : 0.8571428571428571\n",
      "Accuracy                      : 0.890295358649789\n",
      "Precision                     : 0.9176470588235294\n",
      "Recall                        : 0.8041237113402062\n",
      "====================================================\n"
     ]
    },
    {
     "data": {
      "text/plain": [
       "<Figure size 432x288 with 0 Axes>"
      ]
     },
     "metadata": {},
     "output_type": "display_data"
    }
   ],
   "source": [
    "for body_part in STUDY_TYPES:\n",
    "    parts = conv_prediction_without_clahe[conv_prediction_without_clahe['study_type'] == body_part]\n",
    "    results = prediction_results(parts)\n",
    "    write_csv(\n",
    "        results,\n",
    "        f'testing_results/without_clahe/{body_part}_{base_model}_without_clahe.csv'\n",
    "    ) \n",
    "    parts_cm = results[-1]['value']\n",
    "    plot_confusion_matrix(\n",
    "        parts_cm, \n",
    "        CLASSES, \n",
    "        f'{body_part} Confusion Matrix for efficientnetv2-S Without CLAHE', \n",
    "        False\n",
    "    )\n",
    "    print('=' * 52)\n",
    "    print(f'Prediction for {body_part} radiographs')\n",
    "    print('-----------------')\n",
    "    for result in results[:-1]:\n",
    "        print(f\"{result['metric'] + ' ' * (30 - len(result['metric']))}: {result['value']}\")\n",
    "    print('=' * 52)\n"
   ]
  },
  {
   "cell_type": "markdown",
   "metadata": {},
   "source": [
    "# Evaluation of Model with CLAHE"
   ]
  },
  {
   "cell_type": "code",
   "execution_count": null,
   "metadata": {},
   "outputs": [
    {
     "name": "stdout",
     "output_type": "stream",
     "text": [
      "Found 3197 validated image filenames belonging to 2 classes.\n"
     ]
    }
   ],
   "source": [
    "batch = 8\n",
    "data_path = 'dataset/'\n",
    "\n",
    "test_batches_with_clahe = ImageDataGenerator(\n",
    "    preprocessing_function=preprocessing_with_clahe\n",
    ").flow_from_dataframe(\n",
    "    target_size=(img_height, img_width),\n",
    "    dataframe=test_img, \n",
    "    directory= data_path,\n",
    "    class_mode='binary',\n",
    "    x_col='path',\n",
    "    y_col='label',\n",
    "    batch_size=batch, \n",
    "    shuffle=False)"
   ]
  },
  {
   "cell_type": "code",
   "execution_count": null,
   "metadata": {},
   "outputs": [],
   "source": [
    "model_with_clahe = tf.keras.models.load_model(\n",
    "    'models/with_clahe/efficientnetv2-S_sgd_std_lr_finetuned_v2.h5',\n",
    "    custom_objects={'F1Score': F1Score}\n",
    ")"
   ]
  },
  {
   "cell_type": "code",
   "execution_count": null,
   "metadata": {},
   "outputs": [
    {
     "name": "stdout",
     "output_type": "stream",
     "text": [
      "400/400 [==============================] - 57s 135ms/step\n"
     ]
    }
   ],
   "source": [
    "predictions_with_clahe = model_with_clahe.predict(test_batches_with_clahe, verbose=1)"
   ]
  },
  {
   "cell_type": "code",
   "execution_count": null,
   "metadata": {},
   "outputs": [],
   "source": [
    "conv_prediction_with_clahe = test_img.copy()\n",
    "\n",
    "conv_prediction_with_clahe['label'] = conv_prediction_with_clahe['label'].map(int)\n",
    "conv_prediction_with_clahe['prediction'] = predictions_with_clahe.ravel()"
   ]
  },
  {
   "cell_type": "code",
   "execution_count": null,
   "metadata": {},
   "outputs": [],
   "source": [
    "conv_prediction_with_clahe = pd.DataFrame(\n",
    "    [*study_oriented_transformation(conv_prediction_with_clahe)],\n",
    "    columns=['study_type', 'study', 'label', 'prediction'],\n",
    ")"
   ]
  },
  {
   "cell_type": "code",
   "execution_count": null,
   "metadata": {},
   "outputs": [
    {
     "name": "stdout",
     "output_type": "stream",
     "text": [
      "====================================================\n",
      "Prediction for all Musculoskeletal radiographs\n",
      "----------------------------------------------------\n",
      "Cohen's kappa Coefficient (κ) : 0.7003980986671361\n",
      "F1 Score                      : 0.8274509803921568\n",
      "Accuracy                      : 0.8532110091743119\n",
      "Precision                     : 0.8755186721991701\n",
      "Recall                        : 0.7843866171003717\n",
      "====================================================\n"
     ]
    }
   ],
   "source": [
    "results_with_clahe = prediction_results(conv_prediction_with_clahe)\n",
    "\n",
    "write_csv(\n",
    "    results_with_clahe, \n",
    "    f'testing_results/with_clahe/general_prediction_{base_model}_with_clahe.csv'\n",
    ")\n",
    "\n",
    "print('=' * 52)\n",
    "print('Prediction for all Musculoskeletal radiographs')\n",
    "print('-' * 52)\n",
    "for result in results_with_clahe[:-1]:\n",
    "    print(f\"{result['metric'] + ' ' * (30 - len(result['metric']))}: {result['value']}\")\n",
    "print('=' * 52)\n"
   ]
  },
  {
   "cell_type": "code",
   "execution_count": null,
   "metadata": {},
   "outputs": [
    {
     "name": "stdout",
     "output_type": "stream",
     "text": [
      "[[601  60]\n",
      " [116 422]]\n"
     ]
    },
    {
     "data": {
      "text/plain": [
       "<Figure size 432x288 with 0 Axes>"
      ]
     },
     "metadata": {},
     "output_type": "display_data"
    }
   ],
   "source": [
    "cm_general_with_clahe = results_with_clahe[-1]['value']\n",
    "print(cm_general_with_clahe)\n",
    "plot_confusion_matrix(\n",
    "    cm_general_with_clahe, \n",
    "    CLASSES, \n",
    "    f'MURA Testing Confusion Matrix for {base_model} With CLAHE',\n",
    "    True,\n",
    "    )"
   ]
  },
  {
   "cell_type": "code",
   "execution_count": null,
   "metadata": {},
   "outputs": [
    {
     "name": "stdout",
     "output_type": "stream",
     "text": [
      "====================================================\n",
      "Prediction for XR_ELBOW radiographs\n",
      "-----------------\n",
      "Cohen's kappa Coefficient (κ) : 0.7226216351780639\n",
      "F1 Score                      : 0.832\n",
      "Accuracy                      : 0.8670886075949367\n",
      "Precision                     : 0.8813559322033898\n",
      "Recall                        : 0.7878787878787878\n",
      "====================================================\n",
      "====================================================\n",
      "Prediction for XR_FINGER radiographs\n",
      "-----------------\n",
      "Cohen's kappa Coefficient (κ) : 0.6080885258859176\n",
      "F1 Score                      : 0.7820512820512822\n",
      "Accuracy                      : 0.8057142857142857\n",
      "Precision                     : 0.8356164383561644\n",
      "Recall                        : 0.7349397590361446\n",
      "====================================================\n",
      "====================================================\n",
      "Prediction for XR_FOREARM radiographs\n",
      "-----------------\n",
      "Cohen's kappa Coefficient (κ) : 0.6964163433006163\n",
      "F1 Score                      : 0.8245614035087719\n",
      "Accuracy                      : 0.849624060150376\n",
      "Precision                     : 0.94\n",
      "Recall                        : 0.734375\n",
      "====================================================\n",
      "====================================================\n",
      "Prediction for XR_HAND radiographs\n",
      "-----------------\n",
      "Cohen's kappa Coefficient (κ) : 0.5722062119756643\n",
      "F1 Score                      : 0.7037037037037038\n",
      "Accuracy                      : 0.8083832335329342\n",
      "Precision                     : 0.9047619047619048\n",
      "Recall                        : 0.5757575757575758\n",
      "====================================================\n",
      "====================================================\n",
      "Prediction for XR_HUMERUS radiographs\n",
      "-----------------\n",
      "Cohen's kappa Coefficient (κ) : 0.8222904782799474\n",
      "F1 Score                      : 0.9130434782608696\n",
      "Accuracy                      : 0.9111111111111111\n",
      "Precision                     : 0.8873239436619719\n",
      "Recall                        : 0.9402985074626866\n",
      "====================================================\n",
      "====================================================\n",
      "Prediction for XR_SHOULDER radiographs\n",
      "-----------------\n",
      "Cohen's kappa Coefficient (κ) : 0.6602992677491245\n",
      "F1 Score                      : 0.8341708542713568\n",
      "Accuracy                      : 0.8298969072164949\n",
      "Precision                     : 0.7980769230769231\n",
      "Recall                        : 0.8736842105263158\n",
      "====================================================\n",
      "====================================================\n",
      "Prediction for XR_WRIST radiographs\n",
      "-----------------\n",
      "Cohen's kappa Coefficient (κ) : 0.7858272460275624\n",
      "F1 Score                      : 0.8666666666666667\n",
      "Accuracy                      : 0.8987341772151899\n",
      "Precision                     : 0.9397590361445783\n",
      "Recall                        : 0.8041237113402062\n",
      "====================================================\n"
     ]
    },
    {
     "data": {
      "text/plain": [
       "<Figure size 432x288 with 0 Axes>"
      ]
     },
     "metadata": {},
     "output_type": "display_data"
    }
   ],
   "source": [
    "for body_part in STUDY_TYPES:\n",
    "    parts = conv_prediction_with_clahe[conv_prediction_with_clahe['study_type'] == body_part]\n",
    "    results = prediction_results(parts)\n",
    "    write_csv(\n",
    "        results, \n",
    "        f'testing_results/with_clahe/{body_part}_prediction_results_{base_model}_with_clahe.csv'\n",
    "    )\n",
    "    parts_cm = results[-1]['value']\n",
    "    plot_confusion_matrix(\n",
    "        parts_cm, \n",
    "        CLASSES, \n",
    "        f'{body_part} Confusion Matrix for {base_model} With CLAHE', \n",
    "        True\n",
    "    )\n",
    "    print('=' * 52)\n",
    "    print(f'Prediction for {body_part} radiographs')\n",
    "    print('-----------------')\n",
    "    for result in results[:-1]:\n",
    "        print(f\"{result['metric'] + ' ' * (30 - len(result['metric']))}: {result['value']}\")\n",
    "    print('=' * 52)"
   ]
  },
  {
   "cell_type": "markdown",
   "metadata": {},
   "source": [
    "# Compare the two models using McNemar's Test"
   ]
  },
  {
   "cell_type": "code",
   "execution_count": null,
   "metadata": {},
   "outputs": [
    {
     "name": "stdout",
     "output_type": "stream",
     "text": [
      "[[988  32]\n",
      " [ 35 144]]\n"
     ]
    },
    {
     "data": {
      "text/plain": [
       "<Figure size 432x288 with 0 Axes>"
      ]
     },
     "metadata": {},
     "output_type": "display_data"
    }
   ],
   "source": [
    "comparison = mcnemar_table(\n",
    "    y_target= np.array(conv_prediction_without_clahe['label']),\n",
    "    y_model1= np.array(conv_prediction_without_clahe['prediction']),\n",
    "    y_model2= np.array(conv_prediction_with_clahe['prediction']),\n",
    ")\n",
    "print(comparison)\n",
    "plot_contigency_table(\n",
    "    comparison, \n",
    "    ['Correct', 'Wrong'],\n",
    "    'Contigency Table Between {base_model} Without and With CLAHE',\n",
    "    f'{base_model}',\n",
    ")"
   ]
  },
  {
   "cell_type": "code",
   "execution_count": null,
   "metadata": {},
   "outputs": [
    {
     "name": "stdout",
     "output_type": "stream",
     "text": [
      "===================================\n",
      "McNemar's test without correction\n",
      "pvalue      0.8069683671707382\n",
      "statistic   0.05970149253731343\n",
      "===================================\n",
      "McNemar's test with correction\n",
      "pvalue      0.8069683671707382\n",
      "statistic   0.05970149253731343\n"
     ]
    }
   ],
   "source": [
    "mncnemar_without_correction = mcnemar(comparison, exact=False)\n",
    "mncnemar_with_correction = mcnemar(comparison, exact=False, correction=True)\n",
    "\n",
    "print('=' * 35)\n",
    "print('McNemar\\'s test without correction')\n",
    "print(mncnemar_without_correction)\n",
    "print('=' * 35)\n",
    "print('McNemar\\'s test with correction')\n",
    "print(mncnemar_with_correction)"
   ]
  }
 ],
 "metadata": {
  "kernelspec": {
   "display_name": "Python 3.10.8 64-bit (microsoft store)",
   "language": "python",
   "name": "python3"
  },
  "language_info": {
   "codemirror_mode": {
    "name": "ipython",
    "version": 3
   },
   "file_extension": ".py",
   "mimetype": "text/x-python",
   "name": "python",
   "nbconvert_exporter": "python",
   "pygments_lexer": "ipython3",
   "version": "3.10.8"
  },
  "orig_nbformat": 4,
  "vscode": {
   "interpreter": {
    "hash": "ffe94c0a165f1b80b9fd76f16a483d70583588b35b292e2ef3ef2fd28929b1de"
   }
  }
 },
 "nbformat": 4,
 "nbformat_minor": 2
}
