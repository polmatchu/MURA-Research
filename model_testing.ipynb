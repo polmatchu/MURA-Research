{
 "cells": [
  {
   "cell_type": "code",
   "execution_count": 31,
   "metadata": {},
   "outputs": [],
   "source": [
    "import numpy as np\n",
    "import matplotlib.pyplot as plt\n",
    "import os\n",
    "import cv2\n",
    "import pandas as pd\n",
    "import tensorflow as tf\n",
    "import math\n",
    "import tensorflow_addons as tfa\n",
    "import random\n",
    "import re\n",
    "import csv\n",
    "\n",
    "\n",
    "from sklearn import metrics\n",
    "from sklearn.utils import shuffle\n",
    "from tensorflow.keras.preprocessing.image import ImageDataGenerator\n",
    "from mlxtend.evaluate import mcnemar_table\n",
    "from statsmodels.stats.contingency_tables import mcnemar\n",
    "\n",
    "\n",
    "\n",
    "\n",
    "from utils import (\n",
    "    F1Score,\n",
    "    plot_metrics,\n",
    "    plot_accuracy,\n",
    "    study_oriented_transformation,\n",
    "    write_csv,\n",
    "    prediction_results,\n",
    "    plot_confusion_matrix,\n",
    "    plot_contigency_table,\n",
    ")\n"
   ]
  },
  {
   "cell_type": "code",
   "execution_count": 32,
   "metadata": {},
   "outputs": [
    {
     "name": "stdout",
     "output_type": "stream",
     "text": [
      "Num GPUs Available:  1\n"
     ]
    }
   ],
   "source": [
    "# To Activate GPU if there is\n",
    "physical_devices = tf.config.experimental.list_physical_devices('GPU')\n",
    "print(\"Num GPUs Available: \", len(physical_devices))\n",
    "tf.config.experimental.set_memory_growth(physical_devices[0], True)"
   ]
  },
  {
   "cell_type": "code",
   "execution_count": 33,
   "metadata": {},
   "outputs": [],
   "source": [
    "SEED = 1037\n",
    "\n",
    "os.environ[\"PYTHONHASHSEED\"] = str(SEED)\n",
    "random.seed(SEED)\n",
    "tf.random.set_seed(SEED)\n",
    "np.random.seed(SEED)\n"
   ]
  },
  {
   "cell_type": "code",
   "execution_count": 34,
   "metadata": {},
   "outputs": [],
   "source": [
    "METRICS = [ \n",
    "    tf.keras.metrics.BinaryAccuracy(),\n",
    "    tf.keras.metrics.Precision(name=\"precision\"),\n",
    "    tf.keras.metrics.Recall(name=\"recall\"),\n",
    "    tfa.metrics.CohenKappa(name=\"cohen_kappa\", num_classes=2),\n",
    "    F1Score(name=\"f1_score\"),\n",
    "]\n",
    "\n",
    "STUDY_TYPES = [\n",
    "    'XR_ELBOW',\n",
    "    'XR_FINGER',\n",
    "    'XR_FOREARM',\n",
    "    'XR_HAND',\n",
    "    'XR_HUMERUS',\n",
    "    'XR_SHOULDER',\n",
    "    'XR_WRIST',\n",
    "]\n",
    "\n",
    "CLASSES = ['NORMAL', 'ABNORMAL']"
   ]
  },
  {
   "cell_type": "code",
   "execution_count": 35,
   "metadata": {},
   "outputs": [],
   "source": [
    "data_directory = 'dataset'\n",
    "test_img = pd.read_csv(os.path.join(data_directory, 'MURA-v1.1_mod/test_image_paths.csv'), names=['path'])"
   ]
  },
  {
   "cell_type": "code",
   "execution_count": 36,
   "metadata": {},
   "outputs": [
    {
     "data": {
      "text/html": [
       "<div>\n",
       "<style scoped>\n",
       "    .dataframe tbody tr th:only-of-type {\n",
       "        vertical-align: middle;\n",
       "    }\n",
       "\n",
       "    .dataframe tbody tr th {\n",
       "        vertical-align: top;\n",
       "    }\n",
       "\n",
       "    .dataframe thead th {\n",
       "        text-align: right;\n",
       "    }\n",
       "</style>\n",
       "<table border=\"1\" class=\"dataframe\">\n",
       "  <thead>\n",
       "    <tr style=\"text-align: right;\">\n",
       "      <th></th>\n",
       "      <th>path</th>\n",
       "      <th>label</th>\n",
       "      <th>study_type</th>\n",
       "    </tr>\n",
       "  </thead>\n",
       "  <tbody>\n",
       "    <tr>\n",
       "      <th>0</th>\n",
       "      <td>MURA-v1.1_mod/test/XR_WRIST/patient11185/study...</td>\n",
       "      <td>1</td>\n",
       "      <td>XR_WRIST</td>\n",
       "    </tr>\n",
       "    <tr>\n",
       "      <th>1</th>\n",
       "      <td>MURA-v1.1_mod/test/XR_WRIST/patient11185/study...</td>\n",
       "      <td>1</td>\n",
       "      <td>XR_WRIST</td>\n",
       "    </tr>\n",
       "    <tr>\n",
       "      <th>2</th>\n",
       "      <td>MURA-v1.1_mod/test/XR_WRIST/patient11185/study...</td>\n",
       "      <td>1</td>\n",
       "      <td>XR_WRIST</td>\n",
       "    </tr>\n",
       "    <tr>\n",
       "      <th>3</th>\n",
       "      <td>MURA-v1.1_mod/test/XR_WRIST/patient11185/study...</td>\n",
       "      <td>1</td>\n",
       "      <td>XR_WRIST</td>\n",
       "    </tr>\n",
       "    <tr>\n",
       "      <th>4</th>\n",
       "      <td>MURA-v1.1_mod/test/XR_WRIST/patient11186/study...</td>\n",
       "      <td>1</td>\n",
       "      <td>XR_WRIST</td>\n",
       "    </tr>\n",
       "    <tr>\n",
       "      <th>...</th>\n",
       "      <td>...</td>\n",
       "      <td>...</td>\n",
       "      <td>...</td>\n",
       "    </tr>\n",
       "    <tr>\n",
       "      <th>3192</th>\n",
       "      <td>MURA-v1.1_mod/test/XR_FINGER/patient11967/stud...</td>\n",
       "      <td>0</td>\n",
       "      <td>XR_FINGER</td>\n",
       "    </tr>\n",
       "    <tr>\n",
       "      <th>3193</th>\n",
       "      <td>MURA-v1.1_mod/test/XR_FINGER/patient11967/stud...</td>\n",
       "      <td>0</td>\n",
       "      <td>XR_FINGER</td>\n",
       "    </tr>\n",
       "    <tr>\n",
       "      <th>3194</th>\n",
       "      <td>MURA-v1.1_mod/test/XR_FINGER/patient11738/stud...</td>\n",
       "      <td>0</td>\n",
       "      <td>XR_FINGER</td>\n",
       "    </tr>\n",
       "    <tr>\n",
       "      <th>3195</th>\n",
       "      <td>MURA-v1.1_mod/test/XR_FINGER/patient11738/stud...</td>\n",
       "      <td>0</td>\n",
       "      <td>XR_FINGER</td>\n",
       "    </tr>\n",
       "    <tr>\n",
       "      <th>3196</th>\n",
       "      <td>MURA-v1.1_mod/test/XR_FINGER/patient11738/stud...</td>\n",
       "      <td>0</td>\n",
       "      <td>XR_FINGER</td>\n",
       "    </tr>\n",
       "  </tbody>\n",
       "</table>\n",
       "<p>3197 rows × 3 columns</p>\n",
       "</div>"
      ],
      "text/plain": [
       "                                                   path label study_type\n",
       "0     MURA-v1.1_mod/test/XR_WRIST/patient11185/study...     1   XR_WRIST\n",
       "1     MURA-v1.1_mod/test/XR_WRIST/patient11185/study...     1   XR_WRIST\n",
       "2     MURA-v1.1_mod/test/XR_WRIST/patient11185/study...     1   XR_WRIST\n",
       "3     MURA-v1.1_mod/test/XR_WRIST/patient11185/study...     1   XR_WRIST\n",
       "4     MURA-v1.1_mod/test/XR_WRIST/patient11186/study...     1   XR_WRIST\n",
       "...                                                 ...   ...        ...\n",
       "3192  MURA-v1.1_mod/test/XR_FINGER/patient11967/stud...     0  XR_FINGER\n",
       "3193  MURA-v1.1_mod/test/XR_FINGER/patient11967/stud...     0  XR_FINGER\n",
       "3194  MURA-v1.1_mod/test/XR_FINGER/patient11738/stud...     0  XR_FINGER\n",
       "3195  MURA-v1.1_mod/test/XR_FINGER/patient11738/stud...     0  XR_FINGER\n",
       "3196  MURA-v1.1_mod/test/XR_FINGER/patient11738/stud...     0  XR_FINGER\n",
       "\n",
       "[3197 rows x 3 columns]"
      ]
     },
     "execution_count": 36,
     "metadata": {},
     "output_type": "execute_result"
    }
   ],
   "source": [
    "test_img['label'] = test_img['path'].map(\n",
    "    lambda x: '1' if 'positive' in x else '0'\n",
    ")\n",
    "\n",
    "test_img['study_type'] = test_img['path'].map(\n",
    "    lambda x: x.split('/')[2]\n",
    ")\n",
    "\n",
    "test_img"
   ]
  },
  {
   "cell_type": "code",
   "execution_count": 37,
   "metadata": {},
   "outputs": [],
   "source": [
    "img_height = img_width = 300\n",
    "\n",
    "def resize_img(img):\n",
    "    try:\n",
    "        img = cv2.cvtColor(img, cv2.COLOR_GRAY2RGB)\n",
    "    except:\n",
    "        print('error in resizing')\n",
    "        img1 = isinstance(img, type(None))\n",
    "        print('Does image is none: ', img1)\n",
    "        print(img.shape)\n",
    "    return cv2.resize(img, (img_height, img_width))\n",
    "\n",
    "def canny_cropping(img):\n",
    "    convert_img = np.array(img, dtype=np.uint8)\n",
    "\n",
    "    gray = cv2.cvtColor(convert_img, cv2.COLOR_RGB2GRAY)\n",
    "\n",
    "\n",
    "    ave_brightness = math.floor(np.average(gray))\n",
    "    min_pixel = min(gray.flatten())\n",
    "\n",
    "    edges = cv2.Canny(gray, min_pixel, ave_brightness)\n",
    "    cnts = cv2.findContours(edges.copy(), cv2.RETR_EXTERNAL, cv2.CHAIN_APPROX_SIMPLE)\n",
    "    cnts = cnts[0] if len(cnts) == 2 else cnts[1]\n",
    "    cnts = sorted(cnts, key=cv2.contourArea, reverse=True)\n",
    "\n",
    "    for c in cnts:\n",
    "        x, y, w, h = cv2.boundingRect(edges)\n",
    "        gray = gray[y:y+h, x:x+w]\n",
    "        break\n",
    "\n",
    "    return gray\n",
    "\n",
    "def apply_clahe(img):\n",
    "    clahe = cv2.createCLAHE(clipLimit=2.0, tileGridSize=(8, 8))\n",
    "    return clahe.apply(img.astype(np.uint8))\n",
    "\n",
    "def preprocessing_without_clahe(img):\n",
    "    cropped = canny_cropping(img)\n",
    "    return resize_img(cropped)\n",
    "\n",
    "def preprocessing_with_clahe(img):\n",
    "    cropped = canny_cropping(img)\n",
    "    clahe = apply_clahe(cropped)\n",
    "    return resize_img(clahe)\n"
   ]
  },
  {
   "cell_type": "markdown",
   "metadata": {},
   "source": [
    "# Evaluation of Model Without CLAHE"
   ]
  },
  {
   "cell_type": "code",
   "execution_count": 38,
   "metadata": {},
   "outputs": [
    {
     "name": "stdout",
     "output_type": "stream",
     "text": [
      "Found 3197 validated image filenames belonging to 2 classes.\n"
     ]
    }
   ],
   "source": [
    "batch = 8\n",
    "data_path = 'dataset/'\n",
    "\n",
    "test_batches_without_clahe = ImageDataGenerator(\n",
    "    preprocessing_function=preprocessing_without_clahe\n",
    ").flow_from_dataframe(\n",
    "    target_size=(img_height, img_width),\n",
    "    dataframe=test_img, \n",
    "    directory= data_path,\n",
    "    class_mode='binary',\n",
    "    x_col='path',\n",
    "    y_col='label',\n",
    "    batch_size=batch, \n",
    "    shuffle=False)"
   ]
  },
  {
   "cell_type": "code",
   "execution_count": 39,
   "metadata": {},
   "outputs": [],
   "source": [
    "model_without_clahe = tf.keras.models.load_model(\n",
    "    'models/without_clahe/efficientnetv2-b1_modified_finetuned_v2.h5',\n",
    "    custom_objects={'F1Score': F1Score}\n",
    ")"
   ]
  },
  {
   "cell_type": "code",
   "execution_count": 40,
   "metadata": {},
   "outputs": [
    {
     "name": "stdout",
     "output_type": "stream",
     "text": [
      "400/400 [==============================] - 39s 89ms/step - loss: 0.4507 - binary_accuracy: 0.8089 - precision: 0.8697 - recall: 0.7065 - cohen_kappa: 0.6141 - f1_score: 0.7797\n"
     ]
    }
   ],
   "source": [
    "eval_without_clahe = model_without_clahe.evaluate(\n",
    "    test_batches_without_clahe, \n",
    "    verbose = 1\n",
    ")\n"
   ]
  },
  {
   "cell_type": "code",
   "execution_count": 41,
   "metadata": {},
   "outputs": [
    {
     "name": "stdout",
     "output_type": "stream",
     "text": [
      "================================\n",
      "test loss   : 0.45068061351776123\n",
      "binary_accuracy: 0.8088833093643188\n",
      "precision   : 0.8696701526641846\n",
      "recall      : 0.7065359354019165\n",
      "cohen_kappa : 0.6140888929367065\n",
      "f1_score    : 0.7796609997749329\n",
      "================================\n"
     ]
    }
   ],
   "source": [
    "eval_results = []\n",
    "\n",
    "loss = eval_without_clahe.pop(0)\n",
    "\n",
    "eval_results.append({'metric': 'test loss', 'value': loss})\n",
    "\n",
    "# print('=' * 32)\n",
    "# print(f'test loss   : {loss}')\n",
    "\n",
    "for metric, score in zip(METRICS, eval_without_clahe):\n",
    "    eval_results.append({'metric': metric.name, 'value': score})\n",
    "    # print(f\"{metric.name + ' ' * (12 - len(metric.name))}: {score}\")\n",
    "\n",
    "write_csv(\n",
    "    eval_results, \n",
    "    'testing_results/without_clahe/evaluation_results.csv'\n",
    ")\n",
    "\n",
    "print('=' * 32)\n",
    "for result in eval_results:\n",
    "    print(f\"{result['metric'] + ' ' * (12 - len(result['metric']))}: {result['value']}\")\n",
    "print('=' * 32)\n"
   ]
  },
  {
   "cell_type": "code",
   "execution_count": 42,
   "metadata": {},
   "outputs": [
    {
     "name": "stdout",
     "output_type": "stream",
     "text": [
      "400/400 [==============================] - 38s 87ms/step\n"
     ]
    }
   ],
   "source": [
    "predictions_without_clahe = model_without_clahe.predict(test_batches_without_clahe, verbose=1)"
   ]
  },
  {
   "cell_type": "code",
   "execution_count": 43,
   "metadata": {},
   "outputs": [],
   "source": [
    "conv_prediction_without_clahe = test_img.copy()\n",
    "\n",
    "conv_prediction_without_clahe['label'] = conv_prediction_without_clahe['label'].map(int)\n",
    "conv_prediction_without_clahe['prediction'] = predictions_without_clahe.ravel()"
   ]
  },
  {
   "cell_type": "code",
   "execution_count": 44,
   "metadata": {},
   "outputs": [],
   "source": [
    "conv_prediction_without_clahe = pd.DataFrame(\n",
    "    [*study_oriented_transformation(conv_prediction_without_clahe)],\n",
    "    columns=['study_type', 'study', 'label', 'prediction'],\n",
    ")"
   ]
  },
  {
   "cell_type": "markdown",
   "metadata": {},
   "source": [
    "## Evaluation for all body parts concerned"
   ]
  },
  {
   "cell_type": "code",
   "execution_count": 45,
   "metadata": {},
   "outputs": [
    {
     "name": "stdout",
     "output_type": "stream",
     "text": [
      "====================================================\n",
      "Prediction for all Musculoskeletal radiographs\n",
      "-----------------\n",
      "Cohen's kappa Coefficient (κ) : 0.6140888211294978\n",
      "F1 Score                      : 0.7796610169491526\n",
      "Accuracy                      : 0.8088833281201127\n",
      "Precision                     : 0.8696701528559936\n",
      "Recall                        : 0.7065359477124183\n",
      "====================================================\n"
     ]
    }
   ],
   "source": [
    "results_without_clahe = prediction_results(conv_prediction_without_clahe)\n",
    "\n",
    "write_csv(\n",
    "    results_without_clahe, \n",
    "    'testing_results/without_clahe/general_prediction_results.csv'\n",
    ")\n",
    "\n",
    "print('=' * 52)\n",
    "print('Prediction for all Musculoskeletal radiographs')\n",
    "print('-----------------')\n",
    "for result in results_without_clahe[:-1]:\n",
    "    print(f\"{result['metric'] + ' ' * (30 - len(result['metric']))}: {result['value']}\")\n",
    "print('=' * 52)\n"
   ]
  },
  {
   "cell_type": "code",
   "execution_count": 46,
   "metadata": {},
   "outputs": [
    {
     "name": "stdout",
     "output_type": "stream",
     "text": [
      "[[1505  162]\n",
      " [ 449 1081]]\n"
     ]
    },
    {
     "data": {
      "text/plain": [
       "<Figure size 432x288 with 0 Axes>"
      ]
     },
     "metadata": {},
     "output_type": "display_data"
    }
   ],
   "source": [
    "cm_general_without_clahe = results_without_clahe[-1]['value']\n",
    "print(cm_general_without_clahe)\n",
    "plot_confusion_matrix(\n",
    "    cm_general_without_clahe, \n",
    "    CLASSES, \n",
    "    'Confusion Matrix for all Musculoskeletal Parts',\n",
    "    False,\n",
    ")"
   ]
  },
  {
   "cell_type": "markdown",
   "metadata": {},
   "source": [
    "## Evaluation per body types"
   ]
  },
  {
   "cell_type": "code",
   "execution_count": 47,
   "metadata": {},
   "outputs": [
    {
     "name": "stdout",
     "output_type": "stream",
     "text": [
      "====================================================\n",
      "Prediction for XR_ELBOW radiographs\n",
      "-----------------\n",
      "Cohen's kappa Coefficient (κ) : 0.7199703525269838\n",
      "F1 Score                      : 0.8477751756440282\n",
      "Accuracy                      : 0.8602150537634409\n",
      "Precision                     : 0.9187817258883249\n",
      "Recall                        : 0.7869565217391304\n",
      "====================================================\n",
      "====================================================\n",
      "Prediction for XR_FINGER radiographs\n",
      "-----------------\n",
      "Cohen's kappa Coefficient (κ) : 0.5031496794574004\n",
      "F1 Score                      : 0.7339449541284404\n",
      "Accuracy                      : 0.7483731019522777\n",
      "Precision                     : 0.8465608465608465\n",
      "Recall                        : 0.6477732793522267\n",
      "====================================================\n",
      "====================================================\n",
      "Prediction for XR_FOREARM radiographs\n",
      "-----------------\n",
      "Cohen's kappa Coefficient (κ) : 0.6348134912756711\n",
      "F1 Score                      : 0.7955390334572491\n",
      "Accuracy                      : 0.8172757475083057\n",
      "Precision                     : 0.9067796610169492\n",
      "Recall                        : 0.7086092715231788\n",
      "====================================================\n",
      "====================================================\n",
      "Prediction for XR_HAND radiographs\n",
      "-----------------\n",
      "Cohen's kappa Coefficient (κ) : 0.5070950022887104\n",
      "F1 Score                      : 0.6578073089700996\n",
      "Accuracy                      : 0.7760869565217391\n",
      "Precision                     : 0.8839285714285714\n",
      "Recall                        : 0.5238095238095238\n",
      "====================================================\n",
      "====================================================\n",
      "Prediction for XR_HUMERUS radiographs\n",
      "-----------------\n",
      "Cohen's kappa Coefficient (κ) : 0.7150028963120294\n",
      "F1 Score                      : 0.8530465949820788\n",
      "Accuracy                      : 0.8576388888888888\n",
      "Precision                     : 0.8561151079136691\n",
      "Recall                        : 0.85\n",
      "====================================================\n",
      "====================================================\n",
      "Prediction for XR_SHOULDER radiographs\n",
      "-----------------\n",
      "Cohen's kappa Coefficient (κ) : 0.5730805687203792\n",
      "F1 Score                      : 0.7718631178707224\n",
      "Accuracy                      : 0.7868561278863233\n",
      "Precision                     : 0.8185483870967742\n",
      "Recall                        : 0.7302158273381295\n",
      "====================================================\n",
      "====================================================\n",
      "Prediction for XR_WRIST radiographs\n",
      "-----------------\n",
      "Cohen's kappa Coefficient (κ) : 0.6532647595572725\n",
      "F1 Score                      : 0.7925233644859814\n",
      "Accuracy                      : 0.8315629742033384\n",
      "Precision                     : 0.8833333333333333\n",
      "Recall                        : 0.7186440677966102\n",
      "====================================================\n"
     ]
    },
    {
     "data": {
      "text/plain": [
       "<Figure size 432x288 with 0 Axes>"
      ]
     },
     "metadata": {},
     "output_type": "display_data"
    }
   ],
   "source": [
    "for body_part in STUDY_TYPES:\n",
    "    parts = conv_prediction_without_clahe[conv_prediction_without_clahe['study_type'] == body_part]\n",
    "    results = prediction_results(parts)\n",
    "    write_csv(\n",
    "        results_without_clahe, \n",
    "        f'testing_results/without_clahe/{body_part}_efficientnetv2-b1.csv'\n",
    "    )\n",
    "    parts_cm = results[-1]['value']\n",
    "    plot_confusion_matrix(\n",
    "        parts_cm, \n",
    "        CLASSES, \n",
    "        f'Confusion Matrix for {body_part}', \n",
    "        False\n",
    "    )\n",
    "    print('=' * 52)\n",
    "    print(f'Prediction for {body_part} radiographs')\n",
    "    print('-----------------')\n",
    "    for result in results[:-1]:\n",
    "        print(f\"{result['metric'] + ' ' * (30 - len(result['metric']))}: {result['value']}\")\n",
    "    print('=' * 52)\n"
   ]
  },
  {
   "cell_type": "markdown",
   "metadata": {},
   "source": [
    "# Evaluation of Model with CLAHE"
   ]
  },
  {
   "cell_type": "code",
   "execution_count": 48,
   "metadata": {},
   "outputs": [
    {
     "name": "stdout",
     "output_type": "stream",
     "text": [
      "Found 3197 validated image filenames belonging to 2 classes.\n"
     ]
    }
   ],
   "source": [
    "batch = 8\n",
    "data_path = 'dataset/'\n",
    "\n",
    "test_batches_with_clahe = ImageDataGenerator(\n",
    "    preprocessing_function=preprocessing_with_clahe\n",
    ").flow_from_dataframe(\n",
    "    target_size=(img_height, img_width),\n",
    "    dataframe=test_img, \n",
    "    directory= data_path,\n",
    "    class_mode='binary',\n",
    "    x_col='path',\n",
    "    y_col='label',\n",
    "    batch_size=batch, \n",
    "    shuffle=False)"
   ]
  },
  {
   "cell_type": "code",
   "execution_count": 49,
   "metadata": {},
   "outputs": [],
   "source": [
    "model_with_clahe = tf.keras.models.load_model(\n",
    "    'models/with_clahe/efficientnetv2-b1_modified_finetuned_v2.h5',\n",
    "    custom_objects={'F1Score': F1Score}\n",
    ")"
   ]
  },
  {
   "cell_type": "code",
   "execution_count": 50,
   "metadata": {},
   "outputs": [
    {
     "name": "stdout",
     "output_type": "stream",
     "text": [
      "400/400 [==============================] - 40s 90ms/step - loss: 0.4779 - binary_accuracy: 0.8076 - precision: 0.8640 - recall: 0.7098 - cohen_kappa: 0.6117 - f1_score: 0.7793\n"
     ]
    }
   ],
   "source": [
    "eval_with_clahe = model_with_clahe.evaluate(\n",
    "    test_batches_with_clahe, \n",
    "    verbose = 1\n",
    ")"
   ]
  },
  {
   "cell_type": "code",
   "execution_count": 51,
   "metadata": {},
   "outputs": [
    {
     "name": "stdout",
     "output_type": "stream",
     "text": [
      "================================\n",
      "test loss   : 0.47785472869873047\n",
      "binary_accuracy: 0.8076321482658386\n",
      "precision   : 0.8639618158340454\n",
      "recall      : 0.7098039388656616\n",
      "cohen_kappa : 0.6117095947265625\n",
      "f1_score    : 0.7793326377868652\n",
      "================================\n"
     ]
    }
   ],
   "source": [
    "with_clahe_eval_results = []\n",
    "\n",
    "loss = eval_with_clahe.pop(0)\n",
    "\n",
    "with_clahe_eval_results.append({'metric': 'test loss', 'value': loss})\n",
    "\n",
    "\n",
    "for metric, score in zip(METRICS, eval_with_clahe):\n",
    "    with_clahe_eval_results.append({'metric': metric.name, 'value': score})\n",
    "\n",
    "write_csv(\n",
    "    with_clahe_eval_results, \n",
    "    'testing_results/with_clahe/evaluation_results.csv'\n",
    ")\n",
    "\n",
    "print('=' * 32)\n",
    "for result in with_clahe_eval_results:\n",
    "    print(f\"{result['metric'] + ' ' * (12 - len(result['metric']))}: {result['value']}\")\n",
    "print('=' * 32)\n"
   ]
  },
  {
   "cell_type": "code",
   "execution_count": 52,
   "metadata": {},
   "outputs": [
    {
     "name": "stdout",
     "output_type": "stream",
     "text": [
      "400/400 [==============================] - 40s 93ms/step\n"
     ]
    }
   ],
   "source": [
    "predictions_with_clahe = model_with_clahe.predict(test_batches_with_clahe, verbose=1)"
   ]
  },
  {
   "cell_type": "code",
   "execution_count": 53,
   "metadata": {},
   "outputs": [],
   "source": [
    "conv_prediction_with_clahe = test_img.copy()\n",
    "\n",
    "conv_prediction_with_clahe['label'] = conv_prediction_with_clahe['label'].map(int)\n",
    "conv_prediction_with_clahe['prediction'] = predictions_with_clahe.ravel()"
   ]
  },
  {
   "cell_type": "code",
   "execution_count": 54,
   "metadata": {},
   "outputs": [],
   "source": [
    "conv_prediction_with_clahe = pd.DataFrame(\n",
    "    [*study_oriented_transformation(conv_prediction_with_clahe)],\n",
    "    columns=['study_type', 'study', 'label', 'prediction'],\n",
    ")"
   ]
  },
  {
   "cell_type": "code",
   "execution_count": 55,
   "metadata": {},
   "outputs": [
    {
     "name": "stdout",
     "output_type": "stream",
     "text": [
      "====================================================\n",
      "Prediction for all Musculoskeletal radiographs\n",
      "-----------------\n",
      "Cohen's kappa Coefficient (κ) : 0.6117095302786406\n",
      "F1 Score                      : 0.7793326157158235\n",
      "Accuracy                      : 0.8076321551454488\n",
      "Precision                     : 0.863961813842482\n",
      "Recall                        : 0.7098039215686275\n",
      "====================================================\n"
     ]
    }
   ],
   "source": [
    "results_with_clahe = prediction_results(conv_prediction_with_clahe)\n",
    "\n",
    "write_csv(\n",
    "    results_with_clahe, \n",
    "    'testing_results/with_clahe/general_prediction_results.csv'\n",
    ")\n",
    "\n",
    "print('=' * 52)\n",
    "print('Prediction for all Musculoskeletal radiographs')\n",
    "print('-----------------')\n",
    "for result in results_with_clahe[:-1]:\n",
    "    print(f\"{result['metric'] + ' ' * (30 - len(result['metric']))}: {result['value']}\")\n",
    "print('=' * 52)\n"
   ]
  },
  {
   "cell_type": "code",
   "execution_count": 56,
   "metadata": {},
   "outputs": [
    {
     "name": "stdout",
     "output_type": "stream",
     "text": [
      "[[1496  171]\n",
      " [ 444 1086]]\n"
     ]
    },
    {
     "data": {
      "text/plain": [
       "<Figure size 432x288 with 0 Axes>"
      ]
     },
     "metadata": {},
     "output_type": "display_data"
    }
   ],
   "source": [
    "cm_general_with_clahe = results_with_clahe[-1]['value']\n",
    "print(cm_general_with_clahe)\n",
    "plot_confusion_matrix(\n",
    "    cm_general_with_clahe, \n",
    "    CLASSES, \n",
    "    'Confusion Matrix for all Musculoskeletal Parts',\n",
    "    True,\n",
    "    )"
   ]
  },
  {
   "cell_type": "code",
   "execution_count": 57,
   "metadata": {},
   "outputs": [
    {
     "name": "stdout",
     "output_type": "stream",
     "text": [
      "====================================================\n",
      "Prediction for XR_ELBOW radiographs\n",
      "-----------------\n",
      "Cohen's kappa Coefficient (κ) : 0.7027102154273801\n",
      "F1 Score                      : 0.8376470588235294\n",
      "Accuracy                      : 0.8516129032258064\n",
      "Precision                     : 0.9128205128205128\n",
      "Recall                        : 0.7739130434782608\n",
      "====================================================\n",
      "====================================================\n",
      "Prediction for XR_FINGER radiographs\n",
      "-----------------\n",
      "Cohen's kappa Coefficient (κ) : 0.5802836466712346\n",
      "F1 Score                      : 0.7931769722814498\n",
      "Accuracy                      : 0.789587852494577\n",
      "Precision                     : 0.8378378378378378\n",
      "Recall                        : 0.7530364372469636\n",
      "====================================================\n",
      "====================================================\n",
      "Prediction for XR_FOREARM radiographs\n",
      "-----------------\n",
      "Cohen's kappa Coefficient (κ) : 0.601553192428187\n",
      "F1 Score                      : 0.782608695652174\n",
      "Accuracy                      : 0.8006644518272426\n",
      "Precision                     : 0.864\n",
      "Recall                        : 0.7152317880794702\n",
      "====================================================\n",
      "====================================================\n",
      "Prediction for XR_HAND radiographs\n",
      "-----------------\n",
      "Cohen's kappa Coefficient (κ) : 0.48797229608558523\n",
      "F1 Score                      : 0.6538461538461539\n",
      "Accuracy                      : 0.7652173913043478\n",
      "Precision                     : 0.8292682926829268\n",
      "Recall                        : 0.5396825396825397\n",
      "====================================================\n",
      "====================================================\n",
      "Prediction for XR_HUMERUS radiographs\n",
      "-----------------\n",
      "Cohen's kappa Coefficient (κ) : 0.6936170212765957\n",
      "F1 Score                      : 0.837037037037037\n",
      "Accuracy                      : 0.8472222222222222\n",
      "Precision                     : 0.8692307692307693\n",
      "Recall                        : 0.8071428571428572\n",
      "====================================================\n",
      "====================================================\n",
      "Prediction for XR_SHOULDER radiographs\n",
      "-----------------\n",
      "Cohen's kappa Coefficient (κ) : 0.557989641767231\n",
      "F1 Score                      : 0.7427385892116183\n",
      "Accuracy                      : 0.7797513321492007\n",
      "Precision                     : 0.8774509803921569\n",
      "Recall                        : 0.6438848920863309\n",
      "====================================================\n",
      "====================================================\n",
      "Prediction for XR_WRIST radiographs\n",
      "-----------------\n",
      "Cohen's kappa Coefficient (κ) : 0.6490832064917745\n",
      "F1 Score                      : 0.7956600361663653\n",
      "Accuracy                      : 0.8285280728376327\n",
      "Precision                     : 0.8527131782945736\n",
      "Recall                        : 0.7457627118644068\n",
      "====================================================\n"
     ]
    },
    {
     "data": {
      "text/plain": [
       "<Figure size 432x288 with 0 Axes>"
      ]
     },
     "metadata": {},
     "output_type": "display_data"
    }
   ],
   "source": [
    "for body_part in STUDY_TYPES:\n",
    "    parts = conv_prediction_with_clahe[conv_prediction_with_clahe['study_type'] == body_part]\n",
    "    results = prediction_results(parts)\n",
    "    write_csv(\n",
    "        results_with_clahe, \n",
    "        f'testing_results/with_clahe/{body_part}_efficientnetv2-b1.csv'\n",
    "    )\n",
    "    parts_cm = results[-1]['value']\n",
    "    plot_confusion_matrix(\n",
    "        parts_cm, \n",
    "        CLASSES, \n",
    "        f'Confusion Matrix for {body_part}', \n",
    "        True\n",
    "    )\n",
    "    print('=' * 52)\n",
    "    print(f'Prediction for {body_part} radiographs')\n",
    "    print('-----------------')\n",
    "    for result in results[:-1]:\n",
    "        print(f\"{result['metric'] + ' ' * (30 - len(result['metric']))}: {result['value']}\")\n",
    "    print('=' * 52)"
   ]
  },
  {
   "cell_type": "markdown",
   "metadata": {},
   "source": [
    "# Compare the two models using McNemar's Test"
   ]
  },
  {
   "cell_type": "code",
   "execution_count": 58,
   "metadata": {},
   "outputs": [
    {
     "name": "stdout",
     "output_type": "stream",
     "text": [
      "[[2433  153]\n",
      " [ 149  462]]\n"
     ]
    },
    {
     "data": {
      "text/plain": [
       "<Figure size 432x288 with 0 Axes>"
      ]
     },
     "metadata": {},
     "output_type": "display_data"
    }
   ],
   "source": [
    "comparison = mcnemar_table(\n",
    "    y_target= np.array(conv_prediction_without_clahe['label']),\n",
    "    y_model1= np.array(conv_prediction_without_clahe['prediction']),\n",
    "    y_model2= np.array(conv_prediction_with_clahe['prediction']),\n",
    ")\n",
    "print(comparison)\n",
    "plot_contigency_table(\n",
    "    comparison, \n",
    "    ['Correct', 'Wrong'],\n",
    "    'Contigency Table for Both Models'\n",
    ")"
   ]
  },
  {
   "cell_type": "code",
   "execution_count": 59,
   "metadata": {},
   "outputs": [
    {
     "name": "stdout",
     "output_type": "stream",
     "text": [
      "===================================\n",
      "McNemar's test without correction\n",
      "pvalue      0.8629417966554445\n",
      "statistic   0.029801324503311258\n",
      "===================================\n",
      "McNemar's test with correction\n",
      "pvalue      0.8629417966554445\n",
      "statistic   0.029801324503311258\n"
     ]
    }
   ],
   "source": [
    "mncnemar_without_correction = mcnemar(comparison, exact=False)\n",
    "mncnemar_with_correction = mcnemar(comparison, exact=False, correction=True)\n",
    "\n",
    "print('=' * 35)\n",
    "print('McNemar\\'s test without correction')\n",
    "print(mncnemar_without_correction)\n",
    "print('=' * 35)\n",
    "print('McNemar\\'s test with correction')\n",
    "print(mncnemar_with_correction)"
   ]
  },
  {
   "cell_type": "code",
   "execution_count": null,
   "metadata": {},
   "outputs": [],
   "source": []
  }
 ],
 "metadata": {
  "kernelspec": {
   "display_name": "Python 3.9.12 ('base')",
   "language": "python",
   "name": "python3"
  },
  "language_info": {
   "codemirror_mode": {
    "name": "ipython",
    "version": 3
   },
   "file_extension": ".py",
   "mimetype": "text/x-python",
   "name": "python",
   "nbconvert_exporter": "python",
   "pygments_lexer": "ipython3",
   "version": "3.9.12"
  },
  "orig_nbformat": 4,
  "vscode": {
   "interpreter": {
    "hash": "9b0cc3e6214bc0756da043f0ee15aa438a0d40b32cd48e23ee589d8d1ee0de9a"
   }
  }
 },
 "nbformat": 4,
 "nbformat_minor": 2
}
