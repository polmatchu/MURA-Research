{
 "cells": [
  {
   "cell_type": "code",
   "execution_count": 1,
   "metadata": {},
   "outputs": [
    {
     "name": "stderr",
     "output_type": "stream",
     "text": [
      "c:\\Users\\Paul\\anaconda3\\lib\\site-packages\\tensorflow_addons\\utils\\ensure_tf_install.py:53: UserWarning: Tensorflow Addons supports using Python ops for all Tensorflow versions above or equal to 2.7.0 and strictly below 2.10.0 (nightly versions are not supported). \n",
      " The versions of TensorFlow you are currently using is 2.10.0 and is not supported. \n",
      "Some things might work, some things might not.\n",
      "If you were to encounter a bug, do not file an issue.\n",
      "If you want to make sure you're using a tested and supported configuration, either change the TensorFlow version or the TensorFlow Addons's version. \n",
      "You can find the compatibility matrix in TensorFlow Addon's readme:\n",
      "https://github.com/tensorflow/addons\n",
      "  warnings.warn(\n"
     ]
    }
   ],
   "source": [
    "import numpy as np\n",
    "import matplotlib.pyplot as plt\n",
    "import os\n",
    "import cv2\n",
    "import pandas as pd\n",
    "import tensorflow as tf\n",
    "import math\n",
    "import tensorflow_addons as tfa\n",
    "import random\n",
    "import re\n",
    "import csv\n",
    "\n",
    "from tensorflow.keras.models import Model\n",
    "from sklearn import metrics\n",
    "from sklearn.utils import shuffle\n",
    "from tensorflow.keras.preprocessing.image import ImageDataGenerator\n",
    "from mlxtend.evaluate import mcnemar_table\n",
    "from statsmodels.stats.contingency_tables import mcnemar\n",
    "\n",
    "\n",
    "\n",
    "\n",
    "from utils import (\n",
    "    F1Score,\n",
    "    plot_metrics,\n",
    "    plot_accuracy,\n",
    "    study_oriented_transformation,\n",
    "    write_csv,\n",
    "    prediction_results,\n",
    "    plot_confusion_matrix,\n",
    "    plot_contigency_table,\n",
    ")\n"
   ]
  },
  {
   "cell_type": "code",
   "execution_count": 2,
   "metadata": {},
   "outputs": [
    {
     "name": "stdout",
     "output_type": "stream",
     "text": [
      "Num GPUs Available:  1\n"
     ]
    }
   ],
   "source": [
    "# To Activate GPU if there is\n",
    "physical_devices = tf.config.experimental.list_physical_devices('GPU')\n",
    "print(\"Num GPUs Available: \", len(physical_devices))\n",
    "tf.config.experimental.set_memory_growth(physical_devices[0], True)"
   ]
  },
  {
   "cell_type": "code",
   "execution_count": 3,
   "metadata": {},
   "outputs": [],
   "source": [
    "SEED = 1037\n",
    "\n",
    "os.environ[\"PYTHONHASHSEED\"] = str(SEED)\n",
    "random.seed(SEED)\n",
    "tf.random.set_seed(SEED)\n",
    "np.random.seed(SEED)\n"
   ]
  },
  {
   "cell_type": "code",
   "execution_count": 4,
   "metadata": {},
   "outputs": [],
   "source": [
    "METRICS = [ \n",
    "    tf.keras.metrics.BinaryAccuracy(),\n",
    "    tf.keras.metrics.Precision(name=\"precision\"),\n",
    "    tf.keras.metrics.Recall(name=\"recall\"),\n",
    "    tfa.metrics.CohenKappa(name=\"cohen_kappa\", num_classes=2),\n",
    "    F1Score(name=\"f1_score\"),\n",
    "]\n",
    "\n",
    "STUDY_TYPES = [\n",
    "    'XR_ELBOW',\n",
    "    'XR_FINGER',\n",
    "    'XR_FOREARM',\n",
    "    'XR_HAND',\n",
    "    'XR_HUMERUS',\n",
    "    'XR_SHOULDER',\n",
    "    'XR_WRIST',\n",
    "]\n",
    "\n",
    "CLASSES = ['NORMAL', 'ABNORMAL']"
   ]
  },
  {
   "cell_type": "code",
   "execution_count": 5,
   "metadata": {},
   "outputs": [],
   "source": [
    "data_directory = 'dataset'\n",
    "test_img = pd.read_csv(os.path.join(data_directory, 'MURA-v1.1_mod/test_image_paths.csv'), names=['path'])"
   ]
  },
  {
   "cell_type": "code",
   "execution_count": 6,
   "metadata": {},
   "outputs": [
    {
     "data": {
      "text/html": [
       "<div>\n",
       "<style scoped>\n",
       "    .dataframe tbody tr th:only-of-type {\n",
       "        vertical-align: middle;\n",
       "    }\n",
       "\n",
       "    .dataframe tbody tr th {\n",
       "        vertical-align: top;\n",
       "    }\n",
       "\n",
       "    .dataframe thead th {\n",
       "        text-align: right;\n",
       "    }\n",
       "</style>\n",
       "<table border=\"1\" class=\"dataframe\">\n",
       "  <thead>\n",
       "    <tr style=\"text-align: right;\">\n",
       "      <th></th>\n",
       "      <th>path</th>\n",
       "      <th>label</th>\n",
       "      <th>study_type</th>\n",
       "      <th>study</th>\n",
       "      <th>study_path</th>\n",
       "    </tr>\n",
       "  </thead>\n",
       "  <tbody>\n",
       "    <tr>\n",
       "      <th>0</th>\n",
       "      <td>MURA-v1.1_mod/test/XR_WRIST/patient11185/study...</td>\n",
       "      <td>1</td>\n",
       "      <td>XR_WRIST</td>\n",
       "      <td>study1_positive</td>\n",
       "      <td>MURA-v1.1_mod/test/XR_WRIST/patient11185/study...</td>\n",
       "    </tr>\n",
       "    <tr>\n",
       "      <th>1</th>\n",
       "      <td>MURA-v1.1_mod/test/XR_WRIST/patient11185/study...</td>\n",
       "      <td>1</td>\n",
       "      <td>XR_WRIST</td>\n",
       "      <td>study1_positive</td>\n",
       "      <td>MURA-v1.1_mod/test/XR_WRIST/patient11185/study...</td>\n",
       "    </tr>\n",
       "    <tr>\n",
       "      <th>2</th>\n",
       "      <td>MURA-v1.1_mod/test/XR_WRIST/patient11185/study...</td>\n",
       "      <td>1</td>\n",
       "      <td>XR_WRIST</td>\n",
       "      <td>study1_positive</td>\n",
       "      <td>MURA-v1.1_mod/test/XR_WRIST/patient11185/study...</td>\n",
       "    </tr>\n",
       "    <tr>\n",
       "      <th>3</th>\n",
       "      <td>MURA-v1.1_mod/test/XR_WRIST/patient11185/study...</td>\n",
       "      <td>1</td>\n",
       "      <td>XR_WRIST</td>\n",
       "      <td>study1_positive</td>\n",
       "      <td>MURA-v1.1_mod/test/XR_WRIST/patient11185/study...</td>\n",
       "    </tr>\n",
       "    <tr>\n",
       "      <th>4</th>\n",
       "      <td>MURA-v1.1_mod/test/XR_WRIST/patient11186/study...</td>\n",
       "      <td>1</td>\n",
       "      <td>XR_WRIST</td>\n",
       "      <td>study1_positive</td>\n",
       "      <td>MURA-v1.1_mod/test/XR_WRIST/patient11186/study...</td>\n",
       "    </tr>\n",
       "    <tr>\n",
       "      <th>...</th>\n",
       "      <td>...</td>\n",
       "      <td>...</td>\n",
       "      <td>...</td>\n",
       "      <td>...</td>\n",
       "      <td>...</td>\n",
       "    </tr>\n",
       "    <tr>\n",
       "      <th>3192</th>\n",
       "      <td>MURA-v1.1_mod/test/XR_FINGER/patient11967/stud...</td>\n",
       "      <td>0</td>\n",
       "      <td>XR_FINGER</td>\n",
       "      <td>study1_negative</td>\n",
       "      <td>MURA-v1.1_mod/test/XR_FINGER/patient11967/stud...</td>\n",
       "    </tr>\n",
       "    <tr>\n",
       "      <th>3193</th>\n",
       "      <td>MURA-v1.1_mod/test/XR_FINGER/patient11967/stud...</td>\n",
       "      <td>0</td>\n",
       "      <td>XR_FINGER</td>\n",
       "      <td>study1_negative</td>\n",
       "      <td>MURA-v1.1_mod/test/XR_FINGER/patient11967/stud...</td>\n",
       "    </tr>\n",
       "    <tr>\n",
       "      <th>3194</th>\n",
       "      <td>MURA-v1.1_mod/test/XR_FINGER/patient11738/stud...</td>\n",
       "      <td>0</td>\n",
       "      <td>XR_FINGER</td>\n",
       "      <td>study1_negative</td>\n",
       "      <td>MURA-v1.1_mod/test/XR_FINGER/patient11738/stud...</td>\n",
       "    </tr>\n",
       "    <tr>\n",
       "      <th>3195</th>\n",
       "      <td>MURA-v1.1_mod/test/XR_FINGER/patient11738/stud...</td>\n",
       "      <td>0</td>\n",
       "      <td>XR_FINGER</td>\n",
       "      <td>study1_negative</td>\n",
       "      <td>MURA-v1.1_mod/test/XR_FINGER/patient11738/stud...</td>\n",
       "    </tr>\n",
       "    <tr>\n",
       "      <th>3196</th>\n",
       "      <td>MURA-v1.1_mod/test/XR_FINGER/patient11738/stud...</td>\n",
       "      <td>0</td>\n",
       "      <td>XR_FINGER</td>\n",
       "      <td>study1_negative</td>\n",
       "      <td>MURA-v1.1_mod/test/XR_FINGER/patient11738/stud...</td>\n",
       "    </tr>\n",
       "  </tbody>\n",
       "</table>\n",
       "<p>3197 rows × 5 columns</p>\n",
       "</div>"
      ],
      "text/plain": [
       "                                                   path label study_type  \\\n",
       "0     MURA-v1.1_mod/test/XR_WRIST/patient11185/study...     1   XR_WRIST   \n",
       "1     MURA-v1.1_mod/test/XR_WRIST/patient11185/study...     1   XR_WRIST   \n",
       "2     MURA-v1.1_mod/test/XR_WRIST/patient11185/study...     1   XR_WRIST   \n",
       "3     MURA-v1.1_mod/test/XR_WRIST/patient11185/study...     1   XR_WRIST   \n",
       "4     MURA-v1.1_mod/test/XR_WRIST/patient11186/study...     1   XR_WRIST   \n",
       "...                                                 ...   ...        ...   \n",
       "3192  MURA-v1.1_mod/test/XR_FINGER/patient11967/stud...     0  XR_FINGER   \n",
       "3193  MURA-v1.1_mod/test/XR_FINGER/patient11967/stud...     0  XR_FINGER   \n",
       "3194  MURA-v1.1_mod/test/XR_FINGER/patient11738/stud...     0  XR_FINGER   \n",
       "3195  MURA-v1.1_mod/test/XR_FINGER/patient11738/stud...     0  XR_FINGER   \n",
       "3196  MURA-v1.1_mod/test/XR_FINGER/patient11738/stud...     0  XR_FINGER   \n",
       "\n",
       "                study                                         study_path  \n",
       "0     study1_positive  MURA-v1.1_mod/test/XR_WRIST/patient11185/study...  \n",
       "1     study1_positive  MURA-v1.1_mod/test/XR_WRIST/patient11185/study...  \n",
       "2     study1_positive  MURA-v1.1_mod/test/XR_WRIST/patient11185/study...  \n",
       "3     study1_positive  MURA-v1.1_mod/test/XR_WRIST/patient11185/study...  \n",
       "4     study1_positive  MURA-v1.1_mod/test/XR_WRIST/patient11186/study...  \n",
       "...               ...                                                ...  \n",
       "3192  study1_negative  MURA-v1.1_mod/test/XR_FINGER/patient11967/stud...  \n",
       "3193  study1_negative  MURA-v1.1_mod/test/XR_FINGER/patient11967/stud...  \n",
       "3194  study1_negative  MURA-v1.1_mod/test/XR_FINGER/patient11738/stud...  \n",
       "3195  study1_negative  MURA-v1.1_mod/test/XR_FINGER/patient11738/stud...  \n",
       "3196  study1_negative  MURA-v1.1_mod/test/XR_FINGER/patient11738/stud...  \n",
       "\n",
       "[3197 rows x 5 columns]"
      ]
     },
     "execution_count": 6,
     "metadata": {},
     "output_type": "execute_result"
    }
   ],
   "source": [
    "test_img['label'] = test_img['path'].map(\n",
    "    lambda x: '1' if 'positive' in x else '0'\n",
    ")\n",
    "\n",
    "test_img['study_type'] = test_img['path'].map(\n",
    "    lambda x: x.split('/')[2]\n",
    ")\n",
    "\n",
    "test_img['study'] = test_img['path'].map(\n",
    "    lambda x: x.split(\"/\")[4]\n",
    ")\n",
    "\n",
    "test_img['study_path'] = test_img['path'].map(\n",
    "    lambda x: re.sub(r\"image\\d+.png\", \"\", x)\n",
    ")\n",
    "test_img"
   ]
  },
  {
   "cell_type": "code",
   "execution_count": 7,
   "metadata": {},
   "outputs": [],
   "source": [
    "img_height = img_width = 380\n",
    "\n",
    "def resize_img(img):\n",
    "    try:\n",
    "        img = cv2.cvtColor(img, cv2.COLOR_GRAY2RGB)\n",
    "    except:\n",
    "        print('error in resizing')\n",
    "        img1 = isinstance(img, type(None))\n",
    "        print('Does image is none: ', img1)\n",
    "        print(img.shape)\n",
    "    return cv2.resize(img, (img_height, img_width))\n",
    "\n",
    "def canny_cropping(img):\n",
    "    convert_img = np.array(img, dtype=np.uint8)\n",
    "\n",
    "    gray = cv2.cvtColor(convert_img, cv2.COLOR_RGB2GRAY)\n",
    "\n",
    "\n",
    "    ave_brightness = math.floor(np.average(gray))\n",
    "    min_pixel = min(gray.flatten())\n",
    "\n",
    "    edges = cv2.Canny(gray, min_pixel, ave_brightness)\n",
    "    cnts = cv2.findContours(edges.copy(), cv2.RETR_EXTERNAL, cv2.CHAIN_APPROX_SIMPLE)\n",
    "    cnts = cnts[0] if len(cnts) == 2 else cnts[1]\n",
    "    cnts = sorted(cnts, key=cv2.contourArea, reverse=True)\n",
    "\n",
    "    for c in cnts:\n",
    "        x, y, w, h = cv2.boundingRect(edges)\n",
    "        gray = gray[y:y+h, x:x+w]\n",
    "        break\n",
    "\n",
    "    return gray\n",
    "\n",
    "def apply_clahe(img):\n",
    "    clahe = cv2.createCLAHE(clipLimit=4.0, tileGridSize=(8, 8))\n",
    "    return clahe.apply(img.astype(np.uint8))\n",
    "\n",
    "def preprocessing_without_clahe(img):\n",
    "    cropped = canny_cropping(img)\n",
    "    return resize_img(cropped)\n",
    "\n",
    "def preprocessing_with_clahe(img):\n",
    "    cropped = canny_cropping(img)\n",
    "    clahe = apply_clahe(cropped)\n",
    "    return resize_img(clahe)\n"
   ]
  },
  {
   "cell_type": "markdown",
   "metadata": {},
   "source": [
    "# Evaluation of Model Without CLAHE"
   ]
  },
  {
   "cell_type": "code",
   "execution_count": 8,
   "metadata": {},
   "outputs": [
    {
     "name": "stdout",
     "output_type": "stream",
     "text": [
      "Found 3197 validated image filenames belonging to 2 classes.\n"
     ]
    }
   ],
   "source": [
    "batch = 8\n",
    "data_path = 'dataset/'\n",
    "\n",
    "test_batches_without_clahe = ImageDataGenerator(\n",
    "    preprocessing_function=preprocessing_without_clahe\n",
    ").flow_from_dataframe(\n",
    "    target_size=(img_height, img_width),\n",
    "    dataframe=test_img, \n",
    "    directory= data_path,\n",
    "    class_mode='binary',\n",
    "    x_col='path',\n",
    "    y_col='label',\n",
    "    batch_size=batch, \n",
    "    shuffle=False)"
   ]
  },
  {
   "cell_type": "code",
   "execution_count": 9,
   "metadata": {},
   "outputs": [],
   "source": [
    "model_without_clahe = tf.keras.models.load_model(\n",
    "    'models/without_clahe/efficientnetv2-b1_modified_finetuned_v2.h5',\n",
    "    custom_objects={'F1Score': F1Score}\n",
    ")"
   ]
  },
  {
   "cell_type": "code",
   "execution_count": 10,
   "metadata": {},
   "outputs": [
    {
     "name": "stdout",
     "output_type": "stream",
     "text": [
      "400/400 [==============================] - 52s 117ms/step\n"
     ]
    }
   ],
   "source": [
    "predictions_without_clahe = model_without_clahe.predict(test_batches_without_clahe, verbose=1)"
   ]
  },
  {
   "cell_type": "code",
   "execution_count": 11,
   "metadata": {},
   "outputs": [],
   "source": [
    "conv_prediction_without_clahe = test_img.copy()\n",
    "\n",
    "conv_prediction_without_clahe['label'] = conv_prediction_without_clahe['label'].map(int)\n",
    "conv_prediction_without_clahe['prediction'] = predictions_without_clahe.ravel()"
   ]
  },
  {
   "cell_type": "code",
   "execution_count": 12,
   "metadata": {},
   "outputs": [
    {
     "data": {
      "text/html": [
       "<div>\n",
       "<style scoped>\n",
       "    .dataframe tbody tr th:only-of-type {\n",
       "        vertical-align: middle;\n",
       "    }\n",
       "\n",
       "    .dataframe tbody tr th {\n",
       "        vertical-align: top;\n",
       "    }\n",
       "\n",
       "    .dataframe thead th {\n",
       "        text-align: right;\n",
       "    }\n",
       "</style>\n",
       "<table border=\"1\" class=\"dataframe\">\n",
       "  <thead>\n",
       "    <tr style=\"text-align: right;\">\n",
       "      <th></th>\n",
       "      <th>study_type</th>\n",
       "      <th>study</th>\n",
       "      <th>label</th>\n",
       "      <th>prediction</th>\n",
       "    </tr>\n",
       "  </thead>\n",
       "  <tbody>\n",
       "    <tr>\n",
       "      <th>0</th>\n",
       "      <td>XR_ELBOW</td>\n",
       "      <td>MURA-v1.1_mod/test/XR_ELBOW/patient11186/study...</td>\n",
       "      <td>1</td>\n",
       "      <td>1</td>\n",
       "    </tr>\n",
       "    <tr>\n",
       "      <th>1</th>\n",
       "      <td>XR_ELBOW</td>\n",
       "      <td>MURA-v1.1_mod/test/XR_ELBOW/patient11189/study...</td>\n",
       "      <td>1</td>\n",
       "      <td>1</td>\n",
       "    </tr>\n",
       "    <tr>\n",
       "      <th>2</th>\n",
       "      <td>XR_ELBOW</td>\n",
       "      <td>MURA-v1.1_mod/test/XR_ELBOW/patient11204/study...</td>\n",
       "      <td>0</td>\n",
       "      <td>0</td>\n",
       "    </tr>\n",
       "    <tr>\n",
       "      <th>3</th>\n",
       "      <td>XR_ELBOW</td>\n",
       "      <td>MURA-v1.1_mod/test/XR_ELBOW/patient11205/study...</td>\n",
       "      <td>0</td>\n",
       "      <td>0</td>\n",
       "    </tr>\n",
       "    <tr>\n",
       "      <th>4</th>\n",
       "      <td>XR_ELBOW</td>\n",
       "      <td>MURA-v1.1_mod/test/XR_ELBOW/patient11217/study...</td>\n",
       "      <td>0</td>\n",
       "      <td>1</td>\n",
       "    </tr>\n",
       "    <tr>\n",
       "      <th>...</th>\n",
       "      <td>...</td>\n",
       "      <td>...</td>\n",
       "      <td>...</td>\n",
       "      <td>...</td>\n",
       "    </tr>\n",
       "    <tr>\n",
       "      <th>1194</th>\n",
       "      <td>XR_WRIST</td>\n",
       "      <td>MURA-v1.1_mod/test/XR_WRIST/patient11387/study...</td>\n",
       "      <td>0</td>\n",
       "      <td>0</td>\n",
       "    </tr>\n",
       "    <tr>\n",
       "      <th>1195</th>\n",
       "      <td>XR_WRIST</td>\n",
       "      <td>MURA-v1.1_mod/test/XR_WRIST/patient11388/study...</td>\n",
       "      <td>0</td>\n",
       "      <td>0</td>\n",
       "    </tr>\n",
       "    <tr>\n",
       "      <th>1196</th>\n",
       "      <td>XR_WRIST</td>\n",
       "      <td>MURA-v1.1_mod/test/XR_WRIST/patient11389/study...</td>\n",
       "      <td>0</td>\n",
       "      <td>0</td>\n",
       "    </tr>\n",
       "    <tr>\n",
       "      <th>1197</th>\n",
       "      <td>XR_WRIST</td>\n",
       "      <td>MURA-v1.1_mod/test/XR_WRIST/patient11390/study...</td>\n",
       "      <td>0</td>\n",
       "      <td>0</td>\n",
       "    </tr>\n",
       "    <tr>\n",
       "      <th>1198</th>\n",
       "      <td>XR_WRIST</td>\n",
       "      <td>MURA-v1.1_mod/test/XR_WRIST/patient11391/study...</td>\n",
       "      <td>0</td>\n",
       "      <td>0</td>\n",
       "    </tr>\n",
       "  </tbody>\n",
       "</table>\n",
       "<p>1199 rows × 4 columns</p>\n",
       "</div>"
      ],
      "text/plain": [
       "     study_type                                              study  label  \\\n",
       "0      XR_ELBOW  MURA-v1.1_mod/test/XR_ELBOW/patient11186/study...      1   \n",
       "1      XR_ELBOW  MURA-v1.1_mod/test/XR_ELBOW/patient11189/study...      1   \n",
       "2      XR_ELBOW  MURA-v1.1_mod/test/XR_ELBOW/patient11204/study...      0   \n",
       "3      XR_ELBOW  MURA-v1.1_mod/test/XR_ELBOW/patient11205/study...      0   \n",
       "4      XR_ELBOW  MURA-v1.1_mod/test/XR_ELBOW/patient11217/study...      0   \n",
       "...         ...                                                ...    ...   \n",
       "1194   XR_WRIST  MURA-v1.1_mod/test/XR_WRIST/patient11387/study...      0   \n",
       "1195   XR_WRIST  MURA-v1.1_mod/test/XR_WRIST/patient11388/study...      0   \n",
       "1196   XR_WRIST  MURA-v1.1_mod/test/XR_WRIST/patient11389/study...      0   \n",
       "1197   XR_WRIST  MURA-v1.1_mod/test/XR_WRIST/patient11390/study...      0   \n",
       "1198   XR_WRIST  MURA-v1.1_mod/test/XR_WRIST/patient11391/study...      0   \n",
       "\n",
       "      prediction  \n",
       "0              1  \n",
       "1              1  \n",
       "2              0  \n",
       "3              0  \n",
       "4              1  \n",
       "...          ...  \n",
       "1194           0  \n",
       "1195           0  \n",
       "1196           0  \n",
       "1197           0  \n",
       "1198           0  \n",
       "\n",
       "[1199 rows x 4 columns]"
      ]
     },
     "execution_count": 12,
     "metadata": {},
     "output_type": "execute_result"
    }
   ],
   "source": [
    "conv_prediction_without_clahe = pd.DataFrame(\n",
    "    [*study_oriented_transformation(conv_prediction_without_clahe)],\n",
    "    columns=['study_type', 'study', 'label', 'prediction'],\n",
    ")\n",
    "conv_prediction_without_clahe"
   ]
  },
  {
   "cell_type": "markdown",
   "metadata": {},
   "source": [
    "## Evaluation for all body parts concerned"
   ]
  },
  {
   "cell_type": "code",
   "execution_count": 13,
   "metadata": {},
   "outputs": [
    {
     "name": "stdout",
     "output_type": "stream",
     "text": [
      "====================================================\n",
      "Prediction for all Musculoskeletal radiographs\n",
      "-----------------\n",
      "Cohen's kappa Coefficient (κ) : 0.636321494385752\n",
      "F1 Score                      : 0.7827868852459017\n",
      "Accuracy                      : 0.823185988323603\n",
      "Precision                     : 0.8721461187214612\n",
      "Recall                        : 0.7100371747211895\n",
      "====================================================\n"
     ]
    }
   ],
   "source": [
    "results_without_clahe = prediction_results(conv_prediction_without_clahe)\n",
    "\n",
    "write_csv(\n",
    "    results_without_clahe, \n",
    "    'testing_results/without_clahe/general_prediction_efficientnetV2-b1.csv'\n",
    ")\n",
    "\n",
    "print('=' * 52)\n",
    "print('Prediction for all Musculoskeletal radiographs')\n",
    "print('-----------------')\n",
    "for result in results_without_clahe[:-1]:\n",
    "    print(f\"{result['metric'] + ' ' * (30 - len(result['metric']))}: {result['value']}\")\n",
    "print('=' * 52)\n"
   ]
  },
  {
   "cell_type": "code",
   "execution_count": 14,
   "metadata": {},
   "outputs": [
    {
     "name": "stdout",
     "output_type": "stream",
     "text": [
      "[[605  56]\n",
      " [156 382]]\n"
     ]
    },
    {
     "data": {
      "text/plain": [
       "<Figure size 432x288 with 0 Axes>"
      ]
     },
     "metadata": {},
     "output_type": "display_data"
    }
   ],
   "source": [
    "cm_general_without_clahe = results_without_clahe[-1]['value']\n",
    "print(cm_general_without_clahe)\n",
    "plot_confusion_matrix(\n",
    "    cm_general_without_clahe, \n",
    "    CLASSES, \n",
    "    'MURA Testing Confusion Matrix for EfficientnetV2-S Without CLAHE',\n",
    "    False,\n",
    ")"
   ]
  },
  {
   "cell_type": "markdown",
   "metadata": {},
   "source": [
    "## Evaluation per body types"
   ]
  },
  {
   "cell_type": "code",
   "execution_count": 20,
   "metadata": {},
   "outputs": [
    {
     "name": "stdout",
     "output_type": "stream",
     "text": [
      "====================================================\n",
      "Prediction for XR_ELBOW radiographs\n",
      "-----------------\n",
      "Cohen's kappa Coefficient (κ) : 0.6654243604946637\n",
      "F1 Score                      : 0.7899159663865547\n",
      "Accuracy                      : 0.8417721518987342\n",
      "Precision                     : 0.8867924528301887\n",
      "Recall                        : 0.7121212121212122\n",
      "====================================================\n",
      "====================================================\n",
      "Prediction for XR_FINGER radiographs\n",
      "-----------------\n",
      "Cohen's kappa Coefficient (κ) : 0.5948806137972088\n",
      "F1 Score                      : 0.7651006711409396\n",
      "Accuracy                      : 0.8\n",
      "Precision                     : 0.8636363636363636\n",
      "Recall                        : 0.6867469879518072\n",
      "====================================================\n",
      "====================================================\n",
      "Prediction for XR_FOREARM radiographs\n",
      "-----------------\n",
      "Cohen's kappa Coefficient (κ) : 0.6356996119607397\n",
      "F1 Score                      : 0.7894736842105263\n",
      "Accuracy                      : 0.8195488721804511\n",
      "Precision                     : 0.9\n",
      "Recall                        : 0.703125\n",
      "====================================================\n",
      "====================================================\n",
      "Prediction for XR_HAND radiographs\n",
      "-----------------\n",
      "Cohen's kappa Coefficient (κ) : 0.45611463930955876\n",
      "F1 Score                      : 0.607843137254902\n",
      "Accuracy                      : 0.7604790419161677\n",
      "Precision                     : 0.8611111111111112\n",
      "Recall                        : 0.4696969696969697\n",
      "====================================================\n",
      "====================================================\n",
      "Prediction for XR_HUMERUS radiographs\n",
      "-----------------\n",
      "Cohen's kappa Coefficient (κ) : 0.748051377758261\n",
      "F1 Score                      : 0.8702290076335878\n",
      "Accuracy                      : 0.8740740740740741\n",
      "Precision                     : 0.890625\n",
      "Recall                        : 0.8507462686567164\n",
      "====================================================\n",
      "====================================================\n",
      "Prediction for XR_SHOULDER radiographs\n",
      "-----------------\n",
      "Cohen's kappa Coefficient (κ) : 0.5766897285790313\n",
      "F1 Score                      : 0.7783783783783784\n",
      "Accuracy                      : 0.788659793814433\n",
      "Precision                     : 0.8\n",
      "Recall                        : 0.7578947368421053\n",
      "====================================================\n",
      "====================================================\n",
      "Prediction for XR_WRIST radiographs\n",
      "-----------------\n",
      "Cohen's kappa Coefficient (κ) : 0.7305389221556886\n",
      "F1 Score                      : 0.8295454545454545\n",
      "Accuracy                      : 0.8734177215189873\n",
      "Precision                     : 0.9240506329113924\n",
      "Recall                        : 0.7525773195876289\n",
      "====================================================\n"
     ]
    },
    {
     "data": {
      "text/plain": [
       "<Figure size 432x288 with 0 Axes>"
      ]
     },
     "metadata": {},
     "output_type": "display_data"
    }
   ],
   "source": [
    "for body_part in STUDY_TYPES:\n",
    "    parts = conv_prediction_without_clahe[conv_prediction_without_clahe['study_type'] == body_part]\n",
    "    results = prediction_results(parts)\n",
    "    write_csv(\n",
    "        results, \n",
    "        'testing_results/without_clahe/{body_part}_efficientnetv2-b1_results.csv'\n",
    "    )\n",
    "    parts_cm = results[-1]['value']\n",
    "    plot_confusion_matrix(\n",
    "        parts_cm, \n",
    "        CLASSES, \n",
    "        f'{body_part} Confusion Matrix for Model Without CLAHE effnet-b1', \n",
    "        False\n",
    "    )\n",
    "    print('=' * 52)\n",
    "    print(f'Prediction for {body_part} radiographs')\n",
    "    print('-----------------')\n",
    "    for result in results[:-1]:\n",
    "        print(f\"{result['metric'] + ' ' * (30 - len(result['metric']))}: {result['value']}\")\n",
    "    print('=' * 52)\n"
   ]
  },
  {
   "cell_type": "markdown",
   "metadata": {},
   "source": [
    "# Evaluation of Model with CLAHE"
   ]
  },
  {
   "cell_type": "code",
   "execution_count": 21,
   "metadata": {},
   "outputs": [
    {
     "name": "stdout",
     "output_type": "stream",
     "text": [
      "Found 3197 validated image filenames belonging to 2 classes.\n"
     ]
    }
   ],
   "source": [
    "batch = 8\n",
    "data_path = 'dataset/'\n",
    "\n",
    "test_batches_with_clahe = ImageDataGenerator(\n",
    "    preprocessing_function=preprocessing_with_clahe\n",
    ").flow_from_dataframe(\n",
    "    target_size=(img_height, img_width),\n",
    "    dataframe=test_img, \n",
    "    directory= data_path,\n",
    "    class_mode='binary',\n",
    "    x_col='path',\n",
    "    y_col='label',\n",
    "    batch_size=batch, \n",
    "    shuffle=False)"
   ]
  },
  {
   "cell_type": "code",
   "execution_count": 22,
   "metadata": {},
   "outputs": [],
   "source": [
    "model_with_clahe = tf.keras.models.load_model(\n",
    "    'models/with_clahe/efficientnetv2-b1_modified_finetuned_v2.h5',\n",
    "    custom_objects={'F1Score': F1Score}\n",
    ")"
   ]
  },
  {
   "cell_type": "code",
   "execution_count": 23,
   "metadata": {},
   "outputs": [
    {
     "name": "stdout",
     "output_type": "stream",
     "text": [
      "400/400 [==============================] - 53s 126ms/step\n"
     ]
    }
   ],
   "source": [
    "predictions_with_clahe = model_with_clahe.predict(test_batches_with_clahe, verbose=1)"
   ]
  },
  {
   "cell_type": "code",
   "execution_count": 24,
   "metadata": {},
   "outputs": [],
   "source": [
    "conv_prediction_with_clahe = test_img.copy()\n",
    "\n",
    "conv_prediction_with_clahe['label'] = conv_prediction_with_clahe['label'].map(int)\n",
    "conv_prediction_with_clahe['prediction'] = predictions_with_clahe.ravel()"
   ]
  },
  {
   "cell_type": "code",
   "execution_count": 25,
   "metadata": {},
   "outputs": [],
   "source": [
    "conv_prediction_with_clahe = pd.DataFrame(\n",
    "    [*study_oriented_transformation(conv_prediction_with_clahe)],\n",
    "    columns=['study_type', 'study', 'label', 'prediction'],\n",
    ")"
   ]
  },
  {
   "cell_type": "code",
   "execution_count": 26,
   "metadata": {},
   "outputs": [
    {
     "name": "stdout",
     "output_type": "stream",
     "text": [
      "====================================================\n",
      "Prediction for all Musculoskeletal radiographs\n",
      "----------------------------------------------------\n",
      "Cohen's kappa Coefficient (κ) : 0.6323729998624548\n",
      "F1 Score                      : 0.7789256198347108\n",
      "Accuracy                      : 0.8215179316096747\n",
      "Precision                     : 0.8767441860465116\n",
      "Recall                        : 0.7007434944237918\n",
      "====================================================\n"
     ]
    }
   ],
   "source": [
    "results_with_clahe = prediction_results(conv_prediction_with_clahe)\n",
    "\n",
    "write_csv(\n",
    "    results_with_clahe, \n",
    "    'testing_results/with_clahe/general_prediction_efficientnetv2-b1_finetuned_results.csv'\n",
    ")\n",
    "\n",
    "print('=' * 52)\n",
    "print('Prediction for all Musculoskeletal radiographs')\n",
    "print('-' * 52)\n",
    "for result in results_with_clahe[:-1]:\n",
    "    print(f\"{result['metric'] + ' ' * (30 - len(result['metric']))}: {result['value']}\")\n",
    "print('=' * 52)\n"
   ]
  },
  {
   "cell_type": "code",
   "execution_count": 27,
   "metadata": {},
   "outputs": [
    {
     "name": "stdout",
     "output_type": "stream",
     "text": [
      "[[608  53]\n",
      " [161 377]]\n"
     ]
    },
    {
     "data": {
      "text/plain": [
       "<Figure size 432x288 with 0 Axes>"
      ]
     },
     "metadata": {},
     "output_type": "display_data"
    }
   ],
   "source": [
    "cm_general_with_clahe = results_with_clahe[-1]['value']\n",
    "print(cm_general_with_clahe)\n",
    "plot_confusion_matrix(\n",
    "    cm_general_with_clahe, \n",
    "    CLASSES, \n",
    "    'MURA Testing Confusion Matrix for EfficientnetV2-B1 With CLAHE',\n",
    "    True,\n",
    "    )"
   ]
  },
  {
   "cell_type": "code",
   "execution_count": 28,
   "metadata": {},
   "outputs": [
    {
     "name": "stdout",
     "output_type": "stream",
     "text": [
      "====================================================\n",
      "Prediction for XR_ELBOW radiographs\n",
      "-----------------\n",
      "Cohen's kappa Coefficient (κ) : 0.6624508631003247\n",
      "F1 Score                      : 0.782608695652174\n",
      "Accuracy                      : 0.8417721518987342\n",
      "Precision                     : 0.9183673469387755\n",
      "Recall                        : 0.6818181818181818\n",
      "====================================================\n",
      "====================================================\n",
      "Prediction for XR_FINGER radiographs\n",
      "-----------------\n",
      "Cohen's kappa Coefficient (κ) : 0.5378317707645583\n",
      "F1 Score                      : 0.7368421052631579\n",
      "Accuracy                      : 0.7714285714285715\n",
      "Precision                     : 0.8115942028985508\n",
      "Recall                        : 0.6746987951807228\n",
      "====================================================\n",
      "====================================================\n",
      "Prediction for XR_FOREARM radiographs\n",
      "-----------------\n",
      "Cohen's kappa Coefficient (κ) : 0.6814189574540892\n",
      "F1 Score                      : 0.8173913043478261\n",
      "Accuracy                      : 0.8421052631578947\n",
      "Precision                     : 0.9215686274509803\n",
      "Recall                        : 0.734375\n",
      "====================================================\n",
      "====================================================\n",
      "Prediction for XR_HAND radiographs\n",
      "-----------------\n",
      "Cohen's kappa Coefficient (κ) : 0.4256469046839175\n",
      "F1 Score                      : 0.58\n",
      "Accuracy                      : 0.7485029940119761\n",
      "Precision                     : 0.8529411764705882\n",
      "Recall                        : 0.4393939393939394\n",
      "====================================================\n",
      "====================================================\n",
      "Prediction for XR_HUMERUS radiographs\n",
      "-----------------\n",
      "Cohen's kappa Coefficient (κ) : 0.733142982648803\n",
      "F1 Score                      : 0.8593750000000001\n",
      "Accuracy                      : 0.8666666666666667\n",
      "Precision                     : 0.9016393442622951\n",
      "Recall                        : 0.8208955223880597\n",
      "====================================================\n",
      "====================================================\n",
      "Prediction for XR_SHOULDER radiographs\n",
      "-----------------\n",
      "Cohen's kappa Coefficient (κ) : 0.5865743207245604\n",
      "F1 Score                      : 0.7777777777777778\n",
      "Accuracy                      : 0.7938144329896907\n",
      "Precision                     : 0.8235294117647058\n",
      "Recall                        : 0.7368421052631579\n",
      "====================================================\n",
      "====================================================\n",
      "Prediction for XR_WRIST radiographs\n",
      "-----------------\n",
      "Cohen's kappa Coefficient (κ) : 0.7493200362647325\n",
      "F1 Score                      : 0.8426966292134831\n",
      "Accuracy                      : 0.8818565400843882\n",
      "Precision                     : 0.9259259259259259\n",
      "Recall                        : 0.7731958762886598\n",
      "====================================================\n"
     ]
    },
    {
     "data": {
      "text/plain": [
       "<Figure size 432x288 with 0 Axes>"
      ]
     },
     "metadata": {},
     "output_type": "display_data"
    }
   ],
   "source": [
    "for body_part in STUDY_TYPES:\n",
    "    parts = conv_prediction_with_clahe[conv_prediction_with_clahe['study_type'] == body_part]\n",
    "    results = prediction_results(parts)\n",
    "    write_csv(\n",
    "        results, \n",
    "        f'testing_results/with_clahe/{body_part}_prediction_efficientnetv2-b1_results.csv'\n",
    "    )\n",
    "    parts_cm = results[-1]['value']\n",
    "    plot_confusion_matrix(\n",
    "        parts_cm, \n",
    "        CLASSES, \n",
    "        f'{body_part} Confusion Matrix for efficientnetv2-B1 With CLAHE', \n",
    "        True\n",
    "    )\n",
    "    print('=' * 52)\n",
    "    print(f'Prediction for {body_part} radiographs')\n",
    "    print('-----------------')\n",
    "    for result in results[:-1]:\n",
    "        print(f\"{result['metric'] + ' ' * (30 - len(result['metric']))}: {result['value']}\")\n",
    "    print('=' * 52)"
   ]
  },
  {
   "cell_type": "markdown",
   "metadata": {},
   "source": [
    "# Compare the two models using McNemar's Test"
   ]
  },
  {
   "cell_type": "code",
   "execution_count": 29,
   "metadata": {},
   "outputs": [
    {
     "name": "stdout",
     "output_type": "stream",
     "text": [
      "[[950  37]\n",
      " [ 35 177]]\n"
     ]
    },
    {
     "data": {
      "text/plain": [
       "<Figure size 432x288 with 0 Axes>"
      ]
     },
     "metadata": {},
     "output_type": "display_data"
    }
   ],
   "source": [
    "comparison = mcnemar_table(\n",
    "    y_target= np.array(conv_prediction_without_clahe['label']),\n",
    "    y_model1= np.array(conv_prediction_without_clahe['prediction']),\n",
    "    y_model2= np.array(conv_prediction_with_clahe['prediction']),\n",
    ")\n",
    "print(comparison)\n",
    "plot_contigency_table(\n",
    "    comparison, \n",
    "    ['Correct', 'Wrong'],\n",
    "    'Contigency Table for Both Models'\n",
    ")"
   ]
  },
  {
   "cell_type": "code",
   "execution_count": 30,
   "metadata": {},
   "outputs": [
    {
     "name": "stdout",
     "output_type": "stream",
     "text": [
      "===================================\n",
      "McNemar's test without correction\n",
      "pvalue      0.9061856157549283\n",
      "statistic   0.013888888888888888\n",
      "===================================\n",
      "McNemar's test with correction\n",
      "pvalue      0.9061856157549283\n",
      "statistic   0.013888888888888888\n"
     ]
    }
   ],
   "source": [
    "mncnemar_without_correction = mcnemar(comparison, exact=False)\n",
    "mncnemar_with_correction = mcnemar(comparison, exact=False, correction=True)\n",
    "\n",
    "print('=' * 35)\n",
    "print('McNemar\\'s test without correction')\n",
    "print(mncnemar_without_correction)\n",
    "print('=' * 35)\n",
    "print('McNemar\\'s test with correction')\n",
    "print(mncnemar_with_correction)"
   ]
  },
  {
   "cell_type": "code",
   "execution_count": null,
   "metadata": {},
   "outputs": [],
   "source": []
  }
 ],
 "metadata": {
  "kernelspec": {
   "display_name": "Python 3.10.8 64-bit (microsoft store)",
   "language": "python",
   "name": "python3"
  },
  "language_info": {
   "codemirror_mode": {
    "name": "ipython",
    "version": 3
   },
   "file_extension": ".py",
   "mimetype": "text/x-python",
   "name": "python",
   "nbconvert_exporter": "python",
   "pygments_lexer": "ipython3",
   "version": "3.10.8"
  },
  "orig_nbformat": 4,
  "vscode": {
   "interpreter": {
    "hash": "ffe94c0a165f1b80b9fd76f16a483d70583588b35b292e2ef3ef2fd28929b1de"
   }
  }
 },
 "nbformat": 4,
 "nbformat_minor": 2
}
